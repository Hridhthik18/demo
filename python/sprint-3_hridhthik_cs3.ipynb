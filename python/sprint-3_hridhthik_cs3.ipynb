{
 "cells": [
  {
   "cell_type": "code",
   "execution_count": 5,
   "id": "f2f7d2a5-20de-496b-a6a7-9aaaea6f3916",
   "metadata": {},
   "outputs": [
    {
     "name": "stdout",
     "output_type": "stream",
     "text": [
      "False\n"
     ]
    }
   ],
   "source": [
    "# task1\n",
    "mynames = [\"Joe\", \"Zoe\", \"world\", \"Brad\", \"Angelina\", \"world\", \"Zuki\", \"Tom\", \"Paris\", \"world\", \"magic\"]\n",
    "if 'usa' in  mynames:\n",
    "    print(\"True\")\n",
    "else:\n",
    "    print(\"False\")\n",
    "    "
   ]
  },
  {
   "cell_type": "code",
   "execution_count": 39,
   "id": "88aeb768-ed5b-4550-8d6d-1577cfdb9aa4",
   "metadata": {},
   "outputs": [
    {
     "name": "stdout",
     "output_type": "stream",
     "text": [
      "the number of times world is present is: {3}\n"
     ]
    }
   ],
   "source": [
    "# task2\n",
    "mynames = [\"Joe\", \"Zoe\", \"world\", \"Brad\", \"Angelina\", \"world\", \"Zuki\", \"Tom\", \"Paris\", \"world\", \"magic\"]\n",
    "count=0\n",
    "for i in mynames:\n",
    "\n",
    "    if i==\"world\":\n",
    "        count+=1\n",
    "print(f\"the number of times world is present is:\",{count})\n",
    "        \n",
    "\n",
    "    "
   ]
  },
  {
   "cell_type": "code",
   "execution_count": 55,
   "id": "4a74163a-a00d-4221-8544-876cf478759a",
   "metadata": {},
   "outputs": [
    {
     "name": "stdout",
     "output_type": "stream",
     "text": [
      "the total numbers of even numbers are:14 and total numbers of odd numbers are:15\n"
     ]
    }
   ],
   "source": [
    "# task3\n",
    "numlist=list(range(1,30))\n",
    "count_even=0\n",
    "count_odd=0\n",
    "\n",
    "for i in numlist:\n",
    "    if i%2==0:\n",
    "        count_even+=1\n",
    "    else:\n",
    "        count_odd+=1\n",
    "print(f\"the total numbers of even numbers are:{count_even} and total numbers of odd numbers are:{count_odd}\")\n",
    "        \n"
   ]
  },
  {
   "cell_type": "code",
   "execution_count": 69,
   "id": "7f6a6952-0085-44ab-8c54-dd5297c71ea6",
   "metadata": {},
   "outputs": [
    {
     "name": "stdout",
     "output_type": "stream",
     "text": [
      "[2, 4, 6, 8, 10]\n"
     ]
    }
   ],
   "source": [
    "# task4\n",
    "numlist=list(range(1,30))\n",
    "\n",
    "el=[]\n",
    "\n",
    "count=0\n",
    "\n",
    "for i in numlist:\n",
    "    if i %2==0:\n",
    "        count+=1\n",
    "        el.append(i)\n",
    "    if count==5:\n",
    "        break\n",
    "print(el)\n",
    "    \n",
    "    \n",
    "    \n"
   ]
  },
  {
   "cell_type": "code",
   "execution_count": 91,
   "id": "d2130b24-e607-4ff6-ad95-ef9529343d45",
   "metadata": {},
   "outputs": [
    {
     "name": "stdout",
     "output_type": "stream",
     "text": [
      "29\n",
      "27\n"
     ]
    }
   ],
   "source": [
    "# task5\n",
    "numlist=list(range(1,30))\n",
    "count=0\n",
    "\n",
    "for i in range(29,1,-1):\n",
    "    if i %2!=0:\n",
    "        print(i)\n",
    "        count+=1\n",
    "    if count==2:\n",
    "        break\n",
    "\n",
    "    \n",
    "    "
   ]
  },
  {
   "cell_type": "code",
   "execution_count": 141,
   "id": "6c176a49-44d5-4b59-a95e-7ea874be5e24",
   "metadata": {},
   "outputs": [
    {
     "name": "stdin",
     "output_type": "stream",
     "text": [
      "enter a name: hridhthik\n",
      "enter a name: jaya\n",
      "enter a name: barth\n",
      "enter a name: shiva\n",
      "enter a name: gayu\n",
      "enter a number: 1\n",
      "enter a number: 2\n",
      "enter a number: 3\n"
     ]
    },
    {
     "name": "stdout",
     "output_type": "stream",
     "text": [
      "['hridhthik', 'jaya', 'barth', 'shiva', 'gayu', 1, 2, 3]\n"
     ]
    }
   ],
   "source": [
    "# task6\n",
    "x=[]\n",
    "y=[]\n",
    "\n",
    "for i in range(1,6):\n",
    "    string=input(\"enter a name:\")\n",
    "    x.append(string)\n",
    "\n",
    "for j in range(1,4):\n",
    "    num=int(input(\"enter a number:\"))\n",
    "    y.append(num)\n",
    "\n",
    "x.extend(y)\n",
    "\n",
    "print(x)\n",
    "    \n",
    "\n",
    "\n",
    "\n",
    "\n"
   ]
  },
  {
   "cell_type": "code",
   "execution_count": 145,
   "id": "ee4ac939-e299-4d34-aa55-d728bb6ef7d4",
   "metadata": {},
   "outputs": [
    {
     "name": "stdout",
     "output_type": "stream",
     "text": [
      "[1, 4, 9, 16, 25, 36, 49, 64, 81]\n",
      "[900, 961, 1024, 1089, 1156, 1225, 1296, 1369, 1444, 1521]\n"
     ]
    }
   ],
   "source": [
    "# task7\n",
    "list_a=[]\n",
    "list_b=[]\n",
    "\n",
    "for i in range(1,10):\n",
    "    sqrt=i*i\n",
    "    list_a.append(sqrt)\n",
    "for j in range(30,40):\n",
    "    sqrt=j*j\n",
    "    list_b.append(sqrt)\n",
    "print(list_a)\n",
    "print(list_b)"
   ]
  },
  {
   "cell_type": "code",
   "execution_count": 147,
   "id": "132ee807-af4a-44ad-bab5-f279d1b3ca5d",
   "metadata": {},
   "outputs": [
    {
     "name": "stdin",
     "output_type": "stream",
     "text": [
      "enter a number 5\n"
     ]
    },
    {
     "name": "stdout",
     "output_type": "stream",
     "text": [
      "5 * 1 = 5\n",
      "5 * 2 = 10\n",
      "5 * 3 = 15\n",
      "5 * 4 = 20\n",
      "5 * 5 = 25\n",
      "5 * 6 = 30\n",
      "5 * 7 = 35\n",
      "5 * 8 = 40\n",
      "5 * 9 = 45\n",
      "5 * 10 = 50\n"
     ]
    }
   ],
   "source": [
    "# task8\n",
    "user=int(input(\"enter a number\"))\n",
    "for i in range(1,11):\n",
    "    print(user,'*',i,'=',user*i)"
   ]
  },
  {
   "cell_type": "code",
   "execution_count": null,
   "id": "3c102453-8bdf-409d-8bf5-9003e6f10b8b",
   "metadata": {},
   "outputs": [],
   "source": []
  }
 ],
 "metadata": {
  "kernelspec": {
   "display_name": "Python 3 (ipykernel)",
   "language": "python",
   "name": "python3"
  },
  "language_info": {
   "codemirror_mode": {
    "name": "ipython",
    "version": 3
   },
   "file_extension": ".py",
   "mimetype": "text/x-python",
   "name": "python",
   "nbconvert_exporter": "python",
   "pygments_lexer": "ipython3",
   "version": "3.12.4"
  }
 },
 "nbformat": 4,
 "nbformat_minor": 5
}
