{
 "cells": [
  {
   "cell_type": "code",
   "execution_count": 3,
   "id": "e67ab7b1-79de-4b59-9a8d-a7d00722ea8e",
   "metadata": {},
   "outputs": [
    {
     "name": "stdin",
     "output_type": "stream",
     "text": [
      "enter a number: 5\n"
     ]
    },
    {
     "name": "stdout",
     "output_type": "stream",
     "text": [
      "factorial of a number are: 120\n"
     ]
    }
   ],
   "source": [
    "# task1 factorial of a number:\n",
    "user=int(input(\"enter a number:\"))\n",
    "i=1\n",
    "fact=1\n",
    "while(i<=user):\n",
    "    fact=fact*i\n",
    "    i+=1\n",
    "print('factorial of a number are:',fact)\n",
    "\n",
    "    "
   ]
  },
  {
   "cell_type": "code",
   "execution_count": 14,
   "id": "179449f2-2f79-42ad-a9dd-a9a5bdaa695f",
   "metadata": {},
   "outputs": [
    {
     "name": "stdin",
     "output_type": "stream",
     "text": [
      "enter a number: 50\n"
     ]
    },
    {
     "name": "stdout",
     "output_type": "stream",
     "text": [
      "it is not a prime\n"
     ]
    }
   ],
   "source": [
    "# task2 check a number it is a prime or not\n",
    "num=int(input(\"enter a number:\"))\n",
    "i=\n",
    "count=0\n",
    "while(i<=n):\n",
    "    if n%i==0:\n",
    "        count+=1\n",
    "    i+=1\n",
    "if count==2:\n",
    "    print('it is prime')\n",
    "else:\n",
    "    print('it is not a prime')"
   ]
  },
  {
   "cell_type": "code",
   "execution_count": 24,
   "id": "dc91f0cd-86de-4996-9164-7ffdce34ce8a",
   "metadata": {},
   "outputs": [
    {
     "name": "stdout",
     "output_type": "stream",
     "text": [
      "2 prime\n",
      "3 prime\n",
      "5 prime\n",
      "7 prime\n",
      "11 prime\n",
      "13 prime\n",
      "17 prime\n",
      "19 prime\n",
      "23 prime\n",
      "29 prime\n",
      "31 prime\n",
      "37 prime\n",
      "41 prime\n",
      "43 prime\n",
      "47 prime\n",
      "53 prime\n",
      "59 prime\n",
      "61 prime\n",
      "67 prime\n",
      "71 prime\n",
      "73 prime\n",
      "79 prime\n",
      "83 prime\n",
      "89 prime\n",
      "97 prime\n"
     ]
    }
   ],
   "source": [
    "\n",
    "# for i in range(1,100):\n",
    "#     count=0\n",
    "#     for j in range(1,i+i):\n",
    "#         if i%j==0:\n",
    "#             count+=1\n",
    "#     if count==2:\n",
    "#         print(i,'prime')\n"
   ]
  },
  {
   "cell_type": "code",
   "execution_count": 21,
   "id": "fd9822bb-b8e5-4f66-bf37-c8982f577e25",
   "metadata": {},
   "outputs": [
    {
     "name": "stdin",
     "output_type": "stream",
     "text": [
      "enter the number: 12345\n"
     ]
    },
    {
     "name": "stdout",
     "output_type": "stream",
     "text": [
      "15\n"
     ]
    }
   ],
   "source": [
    "# task3\n",
    "user=int(input(\"enter the number:\"))\n",
    "sum=0\n",
    "temp=user\n",
    "while(temp>0):\n",
    "    digit=temp%10\n",
    "    sum=sum+digit\n",
    "    temp=temp//10\n",
    "print(sum)"
   ]
  },
  {
   "cell_type": "code",
   "execution_count": 25,
   "id": "053d1041-8403-421c-86fa-0441ae7f72d3",
   "metadata": {},
   "outputs": [
    {
     "name": "stdin",
     "output_type": "stream",
     "text": [
      "enter a number: 7\n"
     ]
    },
    {
     "name": "stdout",
     "output_type": "stream",
     "text": [
      "0 1 1 2 3 5 8 "
     ]
    }
   ],
   "source": [
    "# task4:\n",
    "user =int(input(\"enter a number:\"))\n",
    "i=1\n",
    "num1=0\n",
    "num2=1\n",
    "\n",
    "while(i<=user):\n",
    "    print(num1,end=\" \")\n",
    "    num3=num1+num2\n",
    "    num1=num2\n",
    "    num2=num3\n",
    "    \n",
    "    i+=1\n",
    "   "
   ]
  },
  {
   "cell_type": "code",
   "execution_count": 37,
   "id": "ce083288-7a65-4087-8187-1b1211ef43ae",
   "metadata": {},
   "outputs": [
    {
     "name": "stdout",
     "output_type": "stream",
     "text": [
      "2589264515264\n",
      "2589264285312\n",
      "(1, 2, 3, 4, 5, 6)\n",
      "2589264333696\n",
      "2589264285312\n"
     ]
    }
   ],
   "source": [
    "# task5:\n",
    "t1=(1,2,3)\n",
    "t2=(4,5,6)\n",
    "print(id(t1))\n",
    "print(id(t2))\n",
    "t1=t1+t2\n",
    "print(t1)\n",
    "print(id(t1))\n",
    "print(id(t2))\n",
    "# Initially, t1 and t2 are separate tuples stored at different memory addresses.\n",
    "# After concatenation, a new tuple is created and assigned to t1. This new tuple has a different memory address than the original t1, because tuples are immutable and concatenation results in a new object.\n",
    "# The tuple t2 remains unchanged and retains the same memory address.\n",
    "# This shows how Python handles tuple immutability by creating new objects rather than modifying existing ones in place."
   ]
  },
  {
   "cell_type": "code",
   "execution_count": 3,
   "id": "3d4a535c-0f36-4057-b24a-298c8466fde4",
   "metadata": {},
   "outputs": [
    {
     "name": "stdout",
     "output_type": "stream",
     "text": [
      "{70, 10, 20, 30, 33, 40, 50, 55, 60}\n"
     ]
    }
   ],
   "source": [
    "# task6\n",
    "m={10,20,30,40,50}\n",
    "n=[33,40,55,60,70]\n",
    "\n",
    "for i in n:\n",
    "    m.add(i)\n",
    "print(m)\n",
    "\n",
    "# explanation:\n",
    "# The code essentially merges the elements from the list n into the set m, ensuring all elements remain unique.\n",
    "# The result is a set of distinct numbers after combining both collections"
   ]
  },
  {
   "cell_type": "code",
   "execution_count": 35,
   "id": "9c206573-f158-4288-b845-481a9e68bd36",
   "metadata": {},
   "outputs": [
    {
     "name": "stdout",
     "output_type": "stream",
     "text": [
      "data : 2\n",
      "Sql : 4\n"
     ]
    }
   ],
   "source": [
    "# task7\n",
    "\n",
    "data_Set={'python':1,'data':2,'Excel':3,'Sql':4}\n",
    "\n",
    "for key,value in data_Set.items():\n",
    "    if value%2==0:\n",
    "        print(key,\":\",value)\n",
    "  \n",
    "   "
   ]
  },
  {
   "cell_type": "code",
   "execution_count": 33,
   "id": "99b9e3e2-ca1d-479b-9810-242c99fd24a5",
   "metadata": {},
   "outputs": [
    {
     "name": "stdout",
     "output_type": "stream",
     "text": [
      "python 1\n",
      "data 2\n",
      "Excel 3\n",
      "Sql 4\n"
     ]
    }
   ],
   "source": [
    "data_Set={'python':1,'data':2,'Excel':3,'Sql':4}\n",
    "i=0\n",
    "for key,value in data_Set.items():\n",
    "    print(key,value)"
   ]
  },
  {
   "cell_type": "code",
   "execution_count": 49,
   "id": "62bc09c5-a44b-4b92-8afb-e7899c75a3a0",
   "metadata": {},
   "outputs": [
    {
     "name": "stdout",
     "output_type": "stream",
     "text": [
      "{1: 1, 2: 4, 3: 9, 4: 16, 5: 25, 6: 36, 7: 49, 8: 64, 9: 81, 10: 100, 11: 121, 12: 144, 13: 169, 14: 196, 15: 225}\n",
      "{1: 1, 2: 4, 3: 9, 4: 16, 5: 25, 6: 36, 7: 49, 8: 64, 9: 81, 10: 1000, 11: 121, 12: 144, 13: 169, 14: 196, 15: 225}\n"
     ]
    }
   ],
   "source": [
    "# task8\n",
    "d={}\n",
    "for key in range(1,16):\n",
    "    d.update({key:key*key})\n",
    "print(d)\n",
    "d.update({10:1000})\n",
    "print(d)"
   ]
  },
  {
   "cell_type": "code",
   "execution_count": null,
   "id": "0df049c9-0b83-4a41-b4b8-2112b22fcfde",
   "metadata": {},
   "outputs": [],
   "source": []
  }
 ],
 "metadata": {
  "kernelspec": {
   "display_name": "Python 3 (ipykernel)",
   "language": "python",
   "name": "python3"
  },
  "language_info": {
   "codemirror_mode": {
    "name": "ipython",
    "version": 3
   },
   "file_extension": ".py",
   "mimetype": "text/x-python",
   "name": "python",
   "nbconvert_exporter": "python",
   "pygments_lexer": "ipython3",
   "version": "3.12.4"
  }
 },
 "nbformat": 4,
 "nbformat_minor": 5
}
