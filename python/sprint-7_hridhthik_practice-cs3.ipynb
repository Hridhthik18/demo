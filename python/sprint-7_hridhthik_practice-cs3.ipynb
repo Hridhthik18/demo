{
 "cells": [
  {
   "cell_type": "code",
   "execution_count": 29,
   "id": "8fb26871-5ca4-4d47-a473-d702478fd28a",
   "metadata": {},
   "outputs": [],
   "source": [
    "# task1\n",
    "from abc import ABC,abstractmethod\n",
    "class Product(ABC):\n",
    "    @abstractmethod\n",
    "    def calculate_total_price(self):\n",
    "        pass\n"
   ]
  },
  {
   "cell_type": "code",
   "execution_count": 31,
   "id": "c072a577-ad38-4385-bd15-f40c9a1a7ef6",
   "metadata": {},
   "outputs": [],
   "source": [
    "# task2\n",
    "class DigitalProduct(Product):\n",
    "    def __init__(self,product_name,price,weight,shipping_charge,delivery_charge):\n",
    "        self.product_name=product_name\n",
    "        self.price=price\n",
    "        self.weight=weight\n",
    "        self.shipping_charge=shipping_charge\n",
    "        self.delivery_charge=delivery_charge\n",
    "    def calculate_total_price(self):\n",
    "        return self.price+self.weight+self.shipping_charge+self.delivery_charge"
   ]
  },
  {
   "cell_type": "code",
   "execution_count": 33,
   "id": "c620ea9f-05f4-4f26-9bb3-13a6fe74fb5a",
   "metadata": {},
   "outputs": [],
   "source": [
    "# task3\n",
    "class PhysicalProduct(Product):\n",
    "    def __init__(self,product_name,price,weight,shipping_charge,delivery_charge):\n",
    "        self.product_name=product_name\n",
    "        self.price=price\n",
    "        self.weight=weight\n",
    "        self.shipping_charge=shipping_charge\n",
    "        self.delivery_charge=delivery_charge\n",
    "    def calculate_total_price(self):\n",
    "        return self.price+self.weight+self.shipping_charge+self.delivery_charge"
   ]
  },
  {
   "cell_type": "code",
   "execution_count": 35,
   "id": "7578df84-cf20-400f-a500-b66143532fe2",
   "metadata": {},
   "outputs": [],
   "source": [
    "# task4:\n",
    "class Order():\n",
    "    def __init__(self,customer_name):\n",
    "        self.__customer_name=customer_name\n",
    "        self.__items=[]\n",
    "        self.__total_price=0\n",
    "    \n",
    "    def add_items(self,item):\n",
    "        self.__items.append(item)\n",
    "        self.__total_price+=item.calculate_total_price()\n",
    "\n",
    "    def customer_name(self):\n",
    "        return self.__customer_name\n",
    "\n",
    "\n",
    "    def get_items(self):\n",
    "        return self.__items\n",
    "\n",
    "    def get_total_price(self):\n",
    "        return self.__total_price\n",
    "    "
   ]
  },
  {
   "cell_type": "code",
   "execution_count": 23,
   "id": "60e77393-1245-4fa3-9d19-3b6394972e58",
   "metadata": {},
   "outputs": [
    {
     "name": "stdout",
     "output_type": "stream",
     "text": [
      "ram\n",
      "Customer name is None, ordered product is hp and total price is 50200\n",
      "sam\n",
      "Customer name is None, ordered product is dell and total price is 54355\n"
     ]
    }
   ],
   "source": [
    "# task5\n",
    "def main():\n",
    "    d1=DigitalProduct(\"hp\",50000,50,100,50)\n",
    "    p1=PhysicalProduct(\"dell\",54000,55,200,100)\n",
    "    o1=Order(\"ram\")\n",
    "    o2=Order(\"sam\")\n",
    "\n",
    "    o1.add_items(d1)\n",
    "    o2.add_items(p1)\n",
    "    print(f\"Customer name is {o1.customer_name()}, ordered product is {d1.product_name} and total price is {o1.get_total_price()}\")\n",
    "    print(f\"Customer name is {o2.customer_name()}, ordered product is {p1.product_name} and total price is {o2.get_total_price()}\")\n",
    "if __name__=='__main__':\n",
    "    main()\n",
    "\n",
    "    "
   ]
  },
  {
   "cell_type": "code",
   "execution_count": null,
   "id": "676df25b-5488-4564-9103-3b7ce788d806",
   "metadata": {},
   "outputs": [],
   "source": []
  }
 ],
 "metadata": {
  "kernelspec": {
   "display_name": "Python 3 (ipykernel)",
   "language": "python",
   "name": "python3"
  },
  "language_info": {
   "codemirror_mode": {
    "name": "ipython",
    "version": 3
   },
   "file_extension": ".py",
   "mimetype": "text/x-python",
   "name": "python",
   "nbconvert_exporter": "python",
   "pygments_lexer": "ipython3",
   "version": "3.12.4"
  }
 },
 "nbformat": 4,
 "nbformat_minor": 5
}
