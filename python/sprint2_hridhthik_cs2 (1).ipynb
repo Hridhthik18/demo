{
 "cells": [
  {
   "cell_type": "code",
   "execution_count": 15,
   "id": "e2a04213-26fe-43c0-85e1-531330ade426",
   "metadata": {},
   "outputs": [
    {
     "name": "stdin",
     "output_type": "stream",
     "text": [
      "enter a character: c\n"
     ]
    },
    {
     "name": "stdout",
     "output_type": "stream",
     "text": [
      "Excel\n"
     ]
    }
   ],
   "source": [
    "# Task1\n",
    "user=input(\"enter a character:\")\n",
    "\n",
    "if user==\"A\" or user=='a':\n",
    "    print(\"python\")\n",
    "elif user==\"B\" or user=='b':\n",
    "    print(\"MYSQL\")\n",
    "elif user==\"C\" or user=='c':\n",
    "    print(\"Excel\")\n",
    "else:\n",
    "    print(\"holiday\")\n"
   ]
  },
  {
   "cell_type": "code",
   "execution_count": 21,
   "id": "d0741da3-2a71-42cf-bd15-be71802691a2",
   "metadata": {},
   "outputs": [
    {
     "name": "stdin",
     "output_type": "stream",
     "text": [
      "enter a number: 89\n",
      "enter a number: 99\n"
     ]
    },
    {
     "name": "stdout",
     "output_type": "stream",
     "text": [
      "largest is : 99\n"
     ]
    }
   ],
   "source": [
    "# task2:\n",
    "num1=int(input(\"enter a number:\"))\n",
    "num2=int(input(\"enter a number:\"))\n",
    "\n",
    "if num1>num2:\n",
    "    print(\"largest is:\" ,num1)\n",
    "else:\n",
    "    print(\"largest is :\",num2)\n"
   ]
  },
  {
   "cell_type": "code",
   "execution_count": 39,
   "id": "5365ccfe-4d1c-4e90-b7a2-cab919070a12",
   "metadata": {},
   "outputs": [
    {
     "name": "stdin",
     "output_type": "stream",
     "text": [
      "enter a basic salary: 44000\n"
     ]
    },
    {
     "name": "stdout",
     "output_type": "stream",
     "text": [
      "gross_salary: 686400.0\n"
     ]
    }
   ],
   "source": [
    "# task3:\n",
    "basic_salary=int(input(\"enter a basic salary:\"))\n",
    "if basic_salary<4000:\n",
    "    HRA=0.1 * basic_salary\n",
    "    TA=0.05 * basic_salary\n",
    "    print(\"gross_salary:\",(basic_salary+HRA+TA)*12)\n",
    " \n",
    "elif basic_salary>4001 and basic_salary<10000:\n",
    "    HRA=0.1*basic_salary\n",
    "    TA=0.1*basic_salary\n",
    "    print(\"gross_salary:\",(basic_salary+HRA+TA)*12)\n",
    "   \n",
    "else:\n",
    "    HRA=0.15*basic_salary\n",
    "    TA=0.15*basic_salary\n",
    "    print(\"gross_salary:\",(basic_salary+HRA+TA)*12)\n",
    "    \n",
    "\n",
    "    \n",
    "    "
   ]
  },
  {
   "cell_type": "code",
   "execution_count": 47,
   "id": "ba788a89-5597-465d-aac3-d5467015bd4e",
   "metadata": {},
   "outputs": [
    {
     "name": "stdin",
     "output_type": "stream",
     "text": [
      "enter a word: c++\n"
     ]
    },
    {
     "name": "stdout",
     "output_type": "stream",
     "text": [
      "no the word not exists\n"
     ]
    }
   ],
   "source": [
    "# task4:\n",
    "user=input(\"enter a word:\")\n",
    "var= \"Python is an interpreted, high-level, general-purpose programming language. Its design philosophy emphasizes code readability, with its use of significant indentation. Its language constructs as well as its object-oriented approach aim to help programmers write clear, logical code for small and large-scale projects.\"\n",
    "if user in var:\n",
    "    print(\"yes ,the word exists.\")\n",
    "else:\n",
    "    print('no the word not exists')\n",
    "\n",
    "\n",
    "\n",
    "\n"
   ]
  },
  {
   "cell_type": "code",
   "execution_count": 51,
   "id": "7dd0d8ff-d824-40a3-98b5-035a13f4dd25",
   "metadata": {},
   "outputs": [
    {
     "name": "stdin",
     "output_type": "stream",
     "text": [
      "enter a character S\n"
     ]
    },
    {
     "name": "stdout",
     "output_type": "stream",
     "text": [
      "UPPERCASE\n"
     ]
    }
   ],
   "source": [
    "# task5:\n",
    "user=input(\"enter a character\")\n",
    "if user==user.upper():\n",
    "    print(\"UPPERCASE\")\n",
    "else:\n",
    "    print(\"lowercase\")\n",
    "    \n",
    "\n",
    "\n",
    "\n",
    "\n",
    "\n"
   ]
  },
  {
   "cell_type": "code",
   "execution_count": 5,
   "id": "b41203b3-004f-47f4-9440-f95734820b14",
   "metadata": {},
   "outputs": [
    {
     "name": "stdin",
     "output_type": "stream",
     "text": [
      "enter a character v\n"
     ]
    },
    {
     "name": "stdout",
     "output_type": "stream",
     "text": [
      "v it is a consonant\n"
     ]
    }
   ],
   "source": [
    "# task6\n",
    "user=input(\"enter a character\")\n",
    "x=['a','e','i','o','u','A','E','I','O','U']\n",
    "if user in x:\n",
    "    print(user,\"it is a vowel\")\n",
    "else:\n",
    "    print(user,\"it is a consonant\")\n",
    "    \n",
    "\n",
    "\n",
    "\n",
    "\n",
    "\n"
   ]
  },
  {
   "cell_type": "code",
   "execution_count": null,
   "id": "ba108b6f-b2be-4cb2-aaf9-ca2179452e76",
   "metadata": {},
   "outputs": [],
   "source": []
  }
 ],
 "metadata": {
  "kernelspec": {
   "display_name": "Python 3 (ipykernel)",
   "language": "python",
   "name": "python3"
  },
  "language_info": {
   "codemirror_mode": {
    "name": "ipython",
    "version": 3
   },
   "file_extension": ".py",
   "mimetype": "text/x-python",
   "name": "python",
   "nbconvert_exporter": "python",
   "pygments_lexer": "ipython3",
   "version": "3.12.4"
  }
 },
 "nbformat": 4,
 "nbformat_minor": 5
}
