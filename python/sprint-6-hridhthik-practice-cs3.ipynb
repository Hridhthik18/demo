{
 "cells": [
  {
   "cell_type": "code",
   "execution_count": 1,
   "id": "901cbd34-d2b2-45bb-8eab-994cab3f0560",
   "metadata": {},
   "outputs": [
    {
     "name": "stdin",
     "output_type": "stream",
     "text": [
      "Enter the enrollment id: 100\n",
      "Enter the student name: ram\n",
      "Enter the course name: cse\n",
      "Enter the age: 22\n",
      "enter the marks: 35.5\n"
     ]
    },
    {
     "name": "stdout",
     "output_type": "stream",
     "text": [
      "\n",
      " Report Card: \n",
      " Enrollment_ID:100\n",
      " Student_Name:ram\n",
      " Course_Name:cse\n",
      " Age:22\n",
      " Marks:35.5\n",
      " Grade:Grade A\n"
     ]
    }
   ],
   "source": [
    "#Task1\n",
    "class student:    #created a class student\n",
    "    def __init__(self):\n",
    "        self.enrollment_id=int(input(\"Enter the enrollment id:\"))\n",
    "        self.student_name=input(\"Enter the student name:\")\n",
    "        self.course_name=input(\"Enter the course name:\")\n",
    "        self.age=int(input(\"Enter the age:\"))\n",
    "        self.marks=float(input(\"enter the marks:\"))\n",
    "        self.grade=\"None\"\n",
    "        \n",
    "    # task 2 creating age_validation method and checking is positive and according to questions\n",
    "    def age_validation(self):  \n",
    "        if self.age<0:\n",
    "            raise ValueError(\"Invalid age. Age must be a positive integer\")\n",
    "        elif 3>self.age>60:\n",
    "            raise ValueError(\" Age must be a  between 3 and 60.\")\n",
    "        else:\n",
    "            return self.age\n",
    "            \n",
    "    # task 3 creating mark validation\n",
    "    def validate_and_convert_marks(self):\n",
    "        if 0 <= self.marks <= 44:\n",
    "            return (self.marks / 44) * 100\n",
    "        else:\n",
    "            raise ValueError(\"Invalid mark enter mark between 0 and 44\")\n",
    "            \n",
    "    # task 4  creating calculate_grade method and assign a grade to marks\n",
    "    def calculated_grade(self):\n",
    "        percentage = self.validate_and_convert_marks()\n",
    "        \n",
    "        if percentage > 100:\n",
    "            self.grade = \"Impossible\"\n",
    "        elif percentage >= 80:\n",
    "            self.grade = \"Grade A\"\n",
    "        elif percentage >= 60:\n",
    "            self.grade = \"Grade B\"\n",
    "        elif percentage >= 40:\n",
    "            self.grade = \"Grade C\"\n",
    "        elif percentage >= 20:\n",
    "            self.grade = \"Grade D\"\n",
    "        else:\n",
    "            self.grade = \"Grade F\"\n",
    "        \n",
    "    #task 5 Creating display_report method and printing the report card\n",
    "    def display_report(self):\n",
    "        print(f\"\\n Report Card: \\n Enrollment_ID:{self.enrollment_id}\\n Student_Name:{self.student_name}\\n Course_Name:{self.course_name}\\n Age:{self.age}\\n Marks:{self.marks}\\n Grade:{self.grade}\")\n",
    "       \n",
    "#creating instance\n",
    "s1=student()\n",
    "s1.age_validation()\n",
    "s1.validate_and_convert_marks()\n",
    "s1.calculated_grade()\n",
    "s1.display_report()"
   ]
  },
  {
   "cell_type": "code",
   "execution_count": 3,
   "id": "11d597a0-9b3e-450d-80f1-73e1ce7da245",
   "metadata": {},
   "outputs": [
    {
     "name": "stdin",
     "output_type": "stream",
     "text": [
      "Enter the enrollment id: 100\n",
      "Enter the name of the gaurdian hridhthik\n"
     ]
    },
    {
     "name": "stdout",
     "output_type": "stream",
     "text": [
      "Guardian detail updated successfully\n"
     ]
    },
    {
     "name": "stdin",
     "output_type": "stream",
     "text": [
      "Do you want to add another guardian?(yes/no): no\n"
     ]
    },
    {
     "name": "stdout",
     "output_type": "stream",
     "text": [
      "Total number of gurdian is  ['hridhthik']\n",
      "Total number of gurdian is  1\n"
     ]
    },
    {
     "name": "stdin",
     "output_type": "stream",
     "text": [
      "Enter the mobile number: 1234567\n"
     ]
    },
    {
     "name": "stdout",
     "output_type": "stream",
     "text": [
      "sucessfull number added\n",
      "The mobile number is ['1234567']\n"
     ]
    }
   ],
   "source": [
    "# task6\n",
    "# a.\n",
    "class guardian:\n",
    "    total_guardian=0\n",
    "    def __init__(self):\n",
    "        self.enrollment_id=int(input(\"Enter the enrollment id:\"))\n",
    "   # b.\n",
    "    @classmethod\n",
    "    def add_guardian(cls):\n",
    "        g=[]\n",
    "        while True:\n",
    "            guard=input(\"Enter the name of the gaurdian\")\n",
    "            g.append(guard)\n",
    "            cls.total_guardian +=1\n",
    "            print(\"Guardian detail updated successfully\")\n",
    "            choice=input(\"Do you want to add another guardian?(yes/no):\")\n",
    "            \n",
    "            if choice.lower()!='yes':\n",
    "                break\n",
    "        print(\"Total number of gurdian is \",g)\n",
    "        print(\"Total number of gurdian is \",len(g))\n",
    "    # c.\n",
    "    @staticmethod\n",
    "    def mobile():\n",
    "        m=[]\n",
    "        for i in range(guardian.total_guardian):\n",
    "            while True:\n",
    "                number=input(\"Enter the mobile number:\")\n",
    "                if len(number)==7 and number.isdigit():\n",
    "                    m.append(number) \n",
    "                    print(\"sucessfull number added\")\n",
    "                    break\n",
    "                else:\n",
    "                    raise ValueError(\"Invalid number number should contain 7 digit and it should be a number\")\n",
    "            print(\"The mobile number is\",m)\n",
    "             \n",
    "guardian1=guardian()\n",
    "guardian1.add_guardian()\n",
    "guardian1.mobile()"
   ]
  },
  {
   "cell_type": "code",
   "execution_count": null,
   "id": "5ea0efdb-b302-4603-9cfe-5102180a96ec",
   "metadata": {},
   "outputs": [],
   "source": []
  }
 ],
 "metadata": {
  "kernelspec": {
   "display_name": "Python 3 (ipykernel)",
   "language": "python",
   "name": "python3"
  },
  "language_info": {
   "codemirror_mode": {
    "name": "ipython",
    "version": 3
   },
   "file_extension": ".py",
   "mimetype": "text/x-python",
   "name": "python",
   "nbconvert_exporter": "python",
   "pygments_lexer": "ipython3",
   "version": "3.12.4"
  }
 },
 "nbformat": 4,
 "nbformat_minor": 5
}
