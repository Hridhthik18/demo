{
 "cells": [
  {
   "cell_type": "code",
   "execution_count": null,
   "id": "6412d4ef-bf0a-4cf6-9892-1973597bd744",
   "metadata": {},
   "outputs": [],
   "source": [
    "#task1\n",
    "from abc import ABC,abstractmethod\n",
    "import random\n",
    "class playgame(ABC):\n",
    "    @abstractmethod\n",
    "    def __init__(self):\n",
    "        self.no_of_puzzle=0\n",
    "        self.no_of_crtans=0\n",
    "    @abstractmethod\n",
    "    def play_game(self):\n",
    "        pass\n",
    "class riddle(playgame):\n",
    "    def __init__(self):\n",
    "        super().__init__()\n",
    "        self.riddle={'The more of this there is, the less you see. What is it?':'darkness',\n",
    "                     'What goes up but never comes down?':'age',\n",
    "                     'I follow you all the time and copy your every move, but you can’t touch me or catch me. What am I?':'shadow',\n",
    "                     'What is always in front of you but can’t be seen?':'future',\n",
    "                     'What gets wet while drying?':'towel',\n",
    "                     'What kind of room has no doors or windows?':'mushroom',\n",
    "                     'What starts with a T, ends with a T, and has T in it?':'teapot',\n",
    "                     'What tastes better than it smells?':'tongue'}\n",
    "        \n",
    "    def play_game(self):\n",
    "        print(\"Welcome to Game\")\n",
    "        while True:\n",
    "            self.no_of_crtans=0\n",
    "            p=list(self.riddle.items()) if isinstance(self.riddle, dict) else self.riddle\n",
    "            random_riddle = random.sample(p,3)\n",
    "            for question,ans in random_riddle:\n",
    "                print(\"Riddle Questions:\")\n",
    "                print(question)\n",
    "                answer=input(\"Enter answer:\")\n",
    "            \n",
    "                if answer==ans:\n",
    "                    print(\"Correct\")\n",
    "                    self.no_of_crtans+=1\n",
    "                else:\n",
    "                    print(f\"Incorrect. The correct answer is '{ans}'\")\n",
    "                self.no_of_puzzle +=1\n",
    "            if self.no_of_puzzle>0:\n",
    "                print(f\"Your total score :{self.no_of_crtans}/{self.no_of_puzzle}\")\n",
    "                print(f\"\\nYour score: {self.no_of_crtans / self.no_of_puzzle * 100:.2f}%\")\n",
    "                print(\"-----------------------------------------------\")\n",
    "            else:\n",
    "                print(\"\\nNo riddles were answered.\")\n",
    "            choice=input(\"Do you want to play again?(yes/no)yes for playing agian and no for playing next game textpuzzle game:\")\n",
    "            if choice.lower()!='yes':\n",
    "                print(\"Thank you! see you again...\")\n",
    "                print(\"-----------------------------------------------\")\n",
    "                break\n",
    "class textbasedpuzzle(playgame):\n",
    "    \n",
    "    def __init__(self):\n",
    "        super().__init__()\n",
    "        self.textpuzzle={'panda':'napda',\n",
    "                         'camera':'cmraea',\n",
    "                         'alligator':'lagratilo',\n",
    "                         'every':'eyvre',\n",
    "                         'cross':'scors',\n",
    "                         'anger':'rneag',\n",
    "                         'tower':'rewto'}\n",
    "\n",
    "    def play_game(self):\n",
    "        print(\"Welcome to Text Puzzle Game\")\n",
    "        while True:\n",
    "            self.no_of_crtans=0\n",
    "            p=list(self.textpuzzle.items()) if isinstance(self.textpuzzle, dict) else self.textpuzzle    #converting dict to list and checking it is \n",
    "            random_word = random.sample(p,3)      #randomly taking three value from the list\n",
    "            for answer,question in random_word:\n",
    "                print(\"Text based questions;\")\n",
    "                print(f\"unscramble the word: {question}\")\n",
    "                ans=input(\"Enter answer: \")\n",
    "                if answer==ans:\n",
    "                    print(\"Correct\")\n",
    "                    self.no_of_crtans+=1\n",
    "                else:\n",
    "                    print(\"Incorrect answer,The correct answer is \",answer)\n",
    "                self.no_of_puzzle+=1\n",
    "            if self.no_of_puzzle>0:\n",
    "                print(f\"Your total score :{self.no_of_crtans}/3\")\n",
    "                print(f\"\\nYour score: {self.no_of_crtans / 3 * 100:.2f}%\")\n",
    "                print(\"-----------------------------------------------\")\n",
    "            else:\n",
    "                print(\"\\nNot answered any questions.\")\n",
    "            choice1=input(\"Do you want to play again?(yes/no):\")\n",
    "            if choice1.lower()!='yes':\n",
    "                print(\"Thank you! see you again...\")\n",
    "                break\n",
    "r=riddle()\n",
    "r.play_game()  \n",
    "tp=textbasedpuzzle()\n",
    "tp.play_game()"
   ]
  },
  {
   "cell_type": "code",
   "execution_count": null,
   "id": "19817436-a803-406d-a6ef-1fddf364a50e",
   "metadata": {},
   "outputs": [],
   "source": [
    "# task 2\n",
    "import random\n",
    "class logicpuzzle:\n",
    "    def __init__(self):\n",
    "        print(\"welcome to Math Logic Puzzle game:\")\n",
    "        self.operators = ['+', '-', '*', '/']\n",
    "        self.no_of_crctans=0\n",
    "        self.no_of_puzzle=0\n",
    "\n",
    "    def puzzle(self):\n",
    "        a = random.randint(1, 20)\n",
    "        b = random.randint(1, 20)\n",
    "        op = random.choice(self.operators)\n",
    "\n",
    "        while op =='/' and b==0:\n",
    "            b = random.randint(1, 20)\n",
    "\n",
    "        if op =='+':\n",
    "            answer= a + b\n",
    "        elif op =='-':\n",
    "            answer= a - b\n",
    "        elif op =='*':\n",
    "            answer = a * b\n",
    "        elif op =='/':\n",
    "            answer= a // b   # i gave floor divisor to round the value with lessnumber\n",
    "\n",
    "        return a, b, op, answer\n",
    "\n",
    "def main():\n",
    "    lp = logicpuzzle()\n",
    "    \n",
    "    while True:\n",
    "        a, b, op, answer = lp.puzzle()\n",
    "        print(f\"questions:\\n {a} {op} {b} Note:if you get division please round of the value to small like 1.934 to 1\")\n",
    "        try:\n",
    "            ans = int(input(\"Enter Answer:\"))\n",
    "            if ans == answer:\n",
    "                print(\"Correct\")\n",
    "                lp.no_of_crctans += 1\n",
    "            else:\n",
    "                print(f\"Incorrect answer. The correct answer is {answer}\")\n",
    "            lp.no_of_puzzle += 1\n",
    "        except ValueError as e:\n",
    "            print(f\"Error: {e}\")\n",
    "            \n",
    "        choice1 = input(\"Do you want to play again?(yes/no):\")\n",
    "        if choice1.lower() != 'yes':\n",
    "            \n",
    "            break\n",
    "    if lp.no_of_puzzle > 0:\n",
    "        print(\"-----------------------------------------------\")\n",
    "        print(f\"Your total score :{lp.no_of_crctans}/{lp.no_of_puzzle}\")\n",
    "        print(f\"\\nYour score: {lp.no_of_crctans / lp.no_of_puzzle * 100:.2f}%\")\n",
    "        print(\"-----------------------------------------------\")\n",
    "        print(\"Thank you! see you again...\")\n",
    "    else:\n",
    "        print(\"\\nNot answered any questions.\")\n",
    "\n",
    "if __name__ == '__main__':\n",
    "    main()"
   ]
  },
  {
   "cell_type": "code",
   "execution_count": null,
   "id": "4002a8e2-7e33-4437-be13-5a32943e8708",
   "metadata": {},
   "outputs": [],
   "source": [
    "#task 3\n",
    "class qus:\n",
    "    def __init__(self,question,answer):\n",
    "        self.question=question\n",
    "        self.answer=answer\n",
    "class quizgame:\n",
    "    print(\"Welcome to Game\")\n",
    "    def __init__(self):\n",
    "        \n",
    "        self.subject={\n",
    "            'Science':[qus('which gas do plants absorb during photosynthesis?','Carbondioxide'),                       \n",
    "                       qus('What si the full form of WWW?','Worldwideweb'),\n",
    "                       qus('How many bones are there in the adult human body?','206')],\n",
    "            'Mathematics':[qus('what is the only even prime number?','2'),\n",
    "                           qus('What is the sum of first 5 natural numbers?','15'),\n",
    "                           qus('What is the name of the mathematical symbol π','Pi')],\n",
    "            'Geography':[qus('What is the tallest mountain range on Earth?','Everest'),\n",
    "                         qus('What is the capital of France?','Paris'),\n",
    "                         qus('Which planet is called Red Planet?','Mars')],\n",
    "            'Others':[qus('Which country wont he most recent FIFA world cup as of 2022?','Argentina'),\n",
    "                      qus('Who invented the light bulb?','Edison'),\n",
    "                      qus('In what year did India declare itself a Democratic and Republic state with adoption of consitution?','1950')]   #qus refering the class qus \n",
    "        }\n",
    "        self.no_of_crctans=0\n",
    "        self.no_of_totalquestion=0\n",
    "    def ask_category(self):\n",
    "        print(\"\"\"Options are:\n",
    "                1. Science\n",
    "                2. Mathematics\n",
    "                3. Geography\n",
    "                4. Others\"\"\")\n",
    "        ch=input(\"Enter your choice:\").capitalize()\n",
    "        return ch\n",
    "    def ask_question(self,qus):                      #passed the class instance as arugument \n",
    "        print(\"Question :\",qus.question)\n",
    "        try:\n",
    "            self.ans=input(\"Enter Answer:\").capitalize()\n",
    "        except Exception:\n",
    "            print(\"Error: Unexpeted error\")\n",
    "    def check_answer(self,qus):\n",
    "        if self.ans.capitalize()==qus.answer:\n",
    "            print(\"Correct\")\n",
    "            self.no_of_crctans+=1\n",
    "        else:\n",
    "            print(\"Incorrect answer, The correct answer is\",qus.answer)\n",
    "        self.no_of_totalquestion+=1\n",
    "    def display_score(self):\n",
    "        print(\"The Score is\",self.no_of_crctans,'/',self.no_of_totalquestion)\n",
    "        print(f\"The Total percentage is {(self.no_of_crctans/self.no_of_totalquestion) *100:.2f}%\")\n",
    "    def play_game(self):\n",
    "        \n",
    "        subject1=self.ask_category()\n",
    "        if subject1 not in self.subject:\n",
    "            print(\"Invalid subject!, Please choose from above listed subject.\")\n",
    "            self.ask_category()\n",
    "        q1=self.subject[subject1]\n",
    "        for i in q1:\n",
    "            self.ask_question(i)\n",
    "            self.check_answer(i)\n",
    "        self.display_score()\n",
    "        play_again = input(\"Do you want to play one more time (yes/no): \")\n",
    "        if play_again.lower() == \"yes\":\n",
    "            self.no_of_crctans = 0\n",
    "            self.no_of_totalquestion = 0\n",
    "            print(\"-------------------------------\")\n",
    "            self.play_game()\n",
    "        print(\"Thank you!\")\n",
    "if __name__ == \"__main__\":\n",
    "    qz = quizgame()\n",
    "    qz.play_game()\n",
    "    "
   ]
  },
  {
   "cell_type": "code",
   "execution_count": 3,
   "id": "1dc060bc-2208-4646-9867-50aec020efac",
   "metadata": {},
   "outputs": [
    {
     "name": "stdout",
     "output_type": "stream",
     "text": [
      "Welcome to Rock Paper Scissor Game\n",
      "\n",
      "Option are:\n",
      "                1.rock\n",
      "                2.paper\n",
      "                3.scissor\n"
     ]
    },
    {
     "name": "stdin",
     "output_type": "stream",
     "text": [
      "Enter your choice: scissor\n"
     ]
    },
    {
     "name": "stdout",
     "output_type": "stream",
     "text": [
      "Same choice, Hence tied\n"
     ]
    },
    {
     "name": "stdin",
     "output_type": "stream",
     "text": [
      "Do you want to play again?(yes/no): yes\n"
     ]
    },
    {
     "name": "stdout",
     "output_type": "stream",
     "text": [
      "Option are:\n",
      "                1.rock\n",
      "                2.paper\n",
      "                3.scissor\n"
     ]
    },
    {
     "name": "stdin",
     "output_type": "stream",
     "text": [
      "Enter your choice: paper\n"
     ]
    },
    {
     "name": "stdout",
     "output_type": "stream",
     "text": [
      "Same choice, Hence tied\n"
     ]
    },
    {
     "name": "stdin",
     "output_type": "stream",
     "text": [
      "Do you want to play again?(yes/no): yes\n"
     ]
    },
    {
     "name": "stdout",
     "output_type": "stream",
     "text": [
      "Option are:\n",
      "                1.rock\n",
      "                2.paper\n",
      "                3.scissor\n"
     ]
    },
    {
     "name": "stdin",
     "output_type": "stream",
     "text": [
      "Enter your choice: paper\n"
     ]
    },
    {
     "name": "stdout",
     "output_type": "stream",
     "text": [
      "Same choice, Hence tied\n"
     ]
    },
    {
     "name": "stdin",
     "output_type": "stream",
     "text": [
      "Do you want to play again?(yes/no): yes\n"
     ]
    },
    {
     "name": "stdout",
     "output_type": "stream",
     "text": [
      "Option are:\n",
      "                1.rock\n",
      "                2.paper\n",
      "                3.scissor\n"
     ]
    },
    {
     "name": "stdin",
     "output_type": "stream",
     "text": [
      "Enter your choice: rock\n"
     ]
    },
    {
     "name": "stdout",
     "output_type": "stream",
     "text": [
      "You Win! rock beats scissor\n"
     ]
    },
    {
     "name": "stdin",
     "output_type": "stream",
     "text": [
      "Do you want to play again?(yes/no): yes\n"
     ]
    },
    {
     "name": "stdout",
     "output_type": "stream",
     "text": [
      "Option are:\n",
      "                1.rock\n",
      "                2.paper\n",
      "                3.scissor\n"
     ]
    },
    {
     "name": "stdin",
     "output_type": "stream",
     "text": [
      "Enter your choice: scissor\n",
      "Do you want to play again?(yes/no): yes\n"
     ]
    },
    {
     "name": "stdout",
     "output_type": "stream",
     "text": [
      "Option are:\n",
      "                1.rock\n",
      "                2.paper\n",
      "                3.scissor\n"
     ]
    },
    {
     "name": "stdin",
     "output_type": "stream",
     "text": [
      "Enter your choice: rock\n"
     ]
    },
    {
     "name": "stdout",
     "output_type": "stream",
     "text": [
      "Same choice, Hence tied\n"
     ]
    },
    {
     "name": "stdin",
     "output_type": "stream",
     "text": [
      "Do you want to play again?(yes/no): no\n"
     ]
    },
    {
     "name": "stdout",
     "output_type": "stream",
     "text": [
      "Thank you!, Exited the game\n"
     ]
    }
   ],
   "source": [
    "#taskc4\n",
    "import random\n",
    "class rps:\n",
    "    def __init__(self):\n",
    "        self.option=['rock','paper','scissor']\n",
    "    def game(self):\n",
    "        print(\"Welcome to Rock Paper Scissor Game\\n\")\n",
    "        while True:\n",
    "            comp_choice=random.choice(self.option)                 #used  ramdom.choice this choose one random string from list\n",
    "            print(\"\"\"Option are:\n",
    "                1.rock\n",
    "                2.paper\n",
    "                3.scissor\"\"\")\n",
    "            choice=input(\"Enter your choice:\").lower()\n",
    "           \n",
    "            if choice==comp_choice:\n",
    "                print(\"Same choice, Hence tied\")\n",
    "            elif choice=='rock':\n",
    "                if comp_choice=='paper':\n",
    "                    print(f\"You Loose! {comp_choice} beats {choice}\")\n",
    "                else:\n",
    "                    print(f\"You Win! {choice} beats {comp_choice}\")\n",
    "            elif choice=='paper':\n",
    "                if comp_choice=='rock':\n",
    "                    print(f\"You Win! {choice} beats {comp_choice}\")\n",
    "                else:\n",
    "                    print(f\"You Loose! {comp_choice} beats {choice}\")\n",
    "            elif choice=='sissor':\n",
    "                if comp_choice=='rock':\n",
    "                    print(f\"You Loose! {comp_choice} beats {choice}\")\n",
    "                else:\n",
    "                    print(f\"You Win! {choice} beats {comp_choice}\")\n",
    "            pa=input(\"Do you want to play again?(yes/no):\")                         \n",
    "            if pa!='yes':\n",
    "                print(\"Thank you!, Exited the game\")\n",
    "                break\n",
    "r=rps()\n",
    "r.game()\n",
    "        "
   ]
  },
  {
   "cell_type": "code",
   "execution_count": null,
   "id": "39569c10-0d49-4405-b371-c40a1f9a46bf",
   "metadata": {},
   "outputs": [],
   "source": [
    "#task 5\n",
    "class twouser:\n",
    "    def __init__(self):\n",
    "        print(\"Welcome to Rock Paper Scissor multiplayer games:\\n\")\n",
    "        self.user1=input(\"Hello User1!, Enter your name:\").capitalize()\n",
    "        self.user2=input(\"Hello User2!, Enter your name:\").capitalize()\n",
    "        self.options=['rock','paper','scissor']\n",
    "    def game(self):\n",
    "        \n",
    "        while True:\n",
    "            print(\"\"\"Option are:\n",
    "                1.rock\n",
    "                2.paper\n",
    "                3.scissor\"\"\")\n",
    "            ch_user1=input(f\"{self.user1} enter your choice:\")\n",
    "            if ch_user1 not in self.options:\n",
    "                print(\"Invalid option, please select from above option:\")\n",
    "                self.game()\n",
    "            ch_user2=input(f\"{self.user2} enter your choice:\")\n",
    "            if ch_user2 not in self.options:\n",
    "                print(\"Invalid option, please select from above option:\")\n",
    "                self.game()\n",
    "            if ch_user1==ch_user2:\n",
    "                print(\"Both select same choice, Hence tied\")\n",
    "            elif (ch_user1=='rock' and ch_user2=='scissor') or (ch_user1=='paper' and ch_user2=='rock') or (ch_user1=='scissor' and ch_user2=='paper'):\n",
    "                print(f\"{ch_user1} beats {ch_user2}! {self.user1} Wins!\")\n",
    "            elif (ch_user2=='rock' and ch_user1=='scissor') or (ch_user2=='paper' and ch_user1=='rock') or (ch_user2=='scissor' and ch_user1=='paper'):\n",
    "                print(f\"{ch_user2} beats {ch_user1}! {self.user2} Wins!\")\n",
    "            pl=input(\"Do you want to play again?(yes/no):\")\n",
    "            if pl!='yes':\n",
    "                print(\"Thank you! Excited the game\")\n",
    "                break\n",
    "tu=twouser()\n",
    "tu.game()"
   ]
  },
  {
   "cell_type": "code",
   "execution_count": 1,
   "id": "922eec24-8f3d-454a-aecf-55142d52c05f",
   "metadata": {},
   "outputs": [
    {
     "name": "stdout",
     "output_type": "stream",
     "text": [
      "Welcome to the Word Guessing Game!\n",
      "You have 3 attempts to guess the secret word.\n",
      "Guess the word that I am thinking of. It has 10 letters.\n"
     ]
    },
    {
     "name": "stdin",
     "output_type": "stream",
     "text": [
      "Enter your guess:  wcxwxcwexw\n",
      "No, Would you like to know hint?(yes/no): yes\n"
     ]
    },
    {
     "name": "stdout",
     "output_type": "stream",
     "text": [
      "The hint is they are fruits.\n",
      "Incorrect guess. You have 2 attempts left.\n"
     ]
    },
    {
     "name": "stdin",
     "output_type": "stream",
     "text": [
      "Enter your guess:  wecxwxcwec\n"
     ]
    },
    {
     "name": "stdout",
     "output_type": "stream",
     "text": [
      "Incorrect guess. You have 1 attempts left.\n"
     ]
    },
    {
     "name": "stdin",
     "output_type": "stream",
     "text": [
      "Enter your guess:  wcxwecewc\n"
     ]
    },
    {
     "name": "stdout",
     "output_type": "stream",
     "text": [
      "Incorrect guess. You have 0 attempts left.\n",
      "Out of attempts. The secret word was: strawberry\n"
     ]
    },
    {
     "name": "stdin",
     "output_type": "stream",
     "text": [
      "Do you want to play again? (yes/no):  no\n"
     ]
    },
    {
     "name": "stdout",
     "output_type": "stream",
     "text": [
      "thankyou\n"
     ]
    }
   ],
   "source": [
    "# project-2\n",
    "#task-1\n",
    "import random\n",
    "\n",
    "def play_game():\n",
    "    while True:\n",
    "        words = [\"apple\", \"banana\", \"orange\", \"grape\", \"kiwi\", \"mango\", \"strawberry\", \"watermelon\"]\n",
    "        secret = random.choice(words)\n",
    "        num=len(secret)\n",
    "        a = 3\n",
    "        clue=0\n",
    "        print(\"You have 3 attempts to guess the secret word.\")\n",
    "        print(f\"Guess the word that I am thinking of. It has {num} letters.\")\n",
    "\n",
    "        while a > 0:\n",
    "            answer = input(\"Enter your guess: \").lower()\n",
    "\n",
    "            if answer == secret:\n",
    "                print(\"Congratulations! You guessed the word correctly.\")\n",
    "                break\n",
    "            else:\n",
    "                a -= 1\n",
    "                if clue==0:\n",
    "                    d=input(\"No, Would you like to know hint?(yes/no):\")\n",
    "                    if d=='yes':\n",
    "                        print(f\"The hint is they are fruits.\")\n",
    "                        clue+=1\n",
    "                print(\"Incorrect guess. You have\", a, \"attempts left.\")\n",
    "\n",
    "        if a == 0:\n",
    "            print(\"Out of attempts. The secret word was:\", secret)\n",
    "\n",
    "        choice = input(\"Do you want to play again? (yes/no): \")\n",
    "        if choice== \"yes\":\n",
    "            play_game()\n",
    "        print(\"------------------Thank you!----------------- \")\n",
    "        break\n",
    "if __name__=='__main__':\n",
    "    print(\"Welcome to the Word Guessing Game!\")\n",
    "    play_game()\n",
    "    "
   ]
  },
  {
   "cell_type": "code",
   "execution_count": 1,
   "id": "1df4094e-89a6-4efe-a4fe-4f3f8f5ab2c8",
   "metadata": {},
   "outputs": [
    {
     "name": "stdout",
     "output_type": "stream",
     "text": [
      "*******Welcome to the Multi Games Play:*********\n",
      "Option are:\n",
      "              1.Play Riddle Puzzle\n",
      "              2.Play Arithmetic Puzzle\n",
      "              3.Play General Knowledge quiz game\n",
      "              4.Play Rock-Paper-Scissor game with the computer\n",
      "              5.Play Rock-Paper-Scissor game with a user\n",
      "              6.Play Word-Guessing game with the computer\n",
      "              Enter any option by typing a number between 1 and 6\n"
     ]
    },
    {
     "name": "stdin",
     "output_type": "stream",
     "text": [
      "Enter your choice: 4\n"
     ]
    },
    {
     "name": "stdout",
     "output_type": "stream",
     "text": [
      "-----Welcome to Rock Paper Scissor Game-----\n",
      "Option are:\n",
      "                1.rock\n",
      "                2.paper\n",
      "                3.scissor\n"
     ]
    },
    {
     "name": "stdin",
     "output_type": "stream",
     "text": [
      "Enter your choice: rock\n"
     ]
    },
    {
     "name": "stdout",
     "output_type": "stream",
     "text": [
      "You Loose! paper beats rock\n"
     ]
    },
    {
     "name": "stdin",
     "output_type": "stream",
     "text": [
      "Do you want to play rock paper scisssor game again?(yes/no): yes\n"
     ]
    },
    {
     "name": "stdout",
     "output_type": "stream",
     "text": [
      "Option are:\n",
      "                1.rock\n",
      "                2.paper\n",
      "                3.scissor\n"
     ]
    },
    {
     "name": "stdin",
     "output_type": "stream",
     "text": [
      "Enter your choice: rock\n"
     ]
    },
    {
     "name": "stdout",
     "output_type": "stream",
     "text": [
      "You Loose! paper beats rock\n"
     ]
    },
    {
     "name": "stdin",
     "output_type": "stream",
     "text": [
      "Do you want to play rock paper scisssor game again?(yes/no): yes\n"
     ]
    },
    {
     "name": "stdout",
     "output_type": "stream",
     "text": [
      "Option are:\n",
      "                1.rock\n",
      "                2.paper\n",
      "                3.scissor\n"
     ]
    },
    {
     "name": "stdin",
     "output_type": "stream",
     "text": [
      "Enter your choice: scissor\n",
      "Do you want to play rock paper scisssor game again?(yes/no): no\n"
     ]
    },
    {
     "name": "stdout",
     "output_type": "stream",
     "text": [
      "Thank you!, Exited the rock paper scisssor game\n",
      "---------------------------------------------------\n"
     ]
    },
    {
     "name": "stdin",
     "output_type": "stream",
     "text": [
      "Would you like to play again?(yes/no) no\n"
     ]
    },
    {
     "name": "stdout",
     "output_type": "stream",
     "text": [
      "-----------------Thank you!----------------\n"
     ]
    }
   ],
   "source": [
    "# task 2 \n",
    "import random\n",
    "class gamemenu:\n",
    "    def riddle():\n",
    "        while True:\n",
    "            riddle={'The more of this there is, the less you see. What is it?':'darkness',\n",
    "                     'What goes up but never comes down?':'age',\n",
    "                     'I follow you all the time and copy your every move, but you can’t touch me or catch me. What am I?':'shadow',\n",
    "                     'What is always in front of you but can’t be seen?':'future',\n",
    "                     'What gets wet while drying?':'towel',\n",
    "                     'What kind of room has no doors or windows?':'mushroom',\n",
    "                     'What starts with a T, ends with a T, and has T in it?':'teapot',\n",
    "                     'What tastes better than it smells?':'tongue'}\n",
    "            no_of_crtans=0\n",
    "            no_of_puzzle=0\n",
    "            p=list(riddle.items()) if isinstance(riddle, dict) else riddle\n",
    "            random_riddle = random.sample(p,3)\n",
    "            for question,ans in random_riddle:\n",
    "                print(\"Riddle Questions:\")\n",
    "                print(question)\n",
    "                answer=input(\"Enter answer:\")\n",
    "            \n",
    "                if answer==ans:\n",
    "                    print(\"Correct\")\n",
    "                    no_of_crtans+=1\n",
    "                else:\n",
    "                    print(f\"Incorrect. The correct answer is '{ans}'\")\n",
    "                no_of_puzzle +=1\n",
    "            if no_of_puzzle>0:\n",
    "                print(f\"Your total score :{no_of_crtans}/{no_of_puzzle}\")\n",
    "                print(f\"\\nYour score: {no_of_crtans / no_of_puzzle * 100:.2f}%\")\n",
    "                print(\"-----------------------------------------------\")\n",
    "            else:\n",
    "                print(\"\\nNo riddles were answered.\")\n",
    "            ch=input(\"Do you want to play Riddle Game again?(yes/no):\")\n",
    "            if ch!='yes':\n",
    "                print(\"Thank you! Excited the Riddle Game\")\n",
    "                print(\"----------------------------------------\")\n",
    "                break\n",
    "                \n",
    "    def arthmeticpuzzle():\n",
    "        print(\"-----Welcome to Math Logic Puzzle Game:-----\")\n",
    "        operators = ['+', '-', '*', '/']\n",
    "        no_of_crctans=0\n",
    "        no_of_puzzle=0\n",
    "\n",
    "        while True:\n",
    "            a = random.randint(1, 20)\n",
    "            b = random.randint(1, 20)\n",
    "            op = random.choice(operators)\n",
    "\n",
    "            while op =='/' and b==0:\n",
    "                b = random.randint(1, 20)\n",
    "\n",
    "            if op =='+':\n",
    "                answer= a + b\n",
    "            elif op =='-':\n",
    "                answer= a - b\n",
    "            elif op =='*':\n",
    "                answer = a * b\n",
    "            elif op =='/':\n",
    "                answer= a // b   # i gave floor divisor to round the value with lessnumber\n",
    "\n",
    "                \n",
    "            print(f\"questions:\\n {a} {op} {b} Note:if you get division please round of the value to small like 1.934 to 1\")\n",
    "            try:\n",
    "                ans = int(input(\"Enter Answer:\"))\n",
    "                if ans == answer:\n",
    "                    print(\"Correct\")\n",
    "                    no_of_crctans += 1\n",
    "                else:\n",
    "                    print(f\"Incorrect answer. The correct answer is {answer}\")\n",
    "                no_of_puzzle += 1\n",
    "            except ValueError as e:\n",
    "                print(f\"Error: {e}\")\n",
    "            \n",
    "            choice1 = input(\"Do you want to play again?(yes/no):\")\n",
    "            if choice1.lower() != 'yes':\n",
    "            \n",
    "                break\n",
    "        if no_of_puzzle > 0:\n",
    "            print(f\"Your total score :{no_of_crctans}/{no_of_puzzle}\")\n",
    "            print(f\"\\nYour score: {no_of_crctans / no_of_puzzle * 100:.2f}%\")\n",
    "            print(\"---------------------------\")\n",
    "            print(\"Thank you! Exited the Math Logic Game...\")\n",
    "            print(\"------------------------------------------------\")\n",
    "        else:\n",
    "            print(\"\\nNot answered any questions.\")\n",
    "            \n",
    "    def generalknowedge():\n",
    "        class qus:\n",
    "            def __init__(self,question,answer):\n",
    "                self.question=question\n",
    "                self.answer=answer\n",
    "        class quizgame:\n",
    "            def __init__(self):\n",
    "                print(\"-----Welcome to General Knowedge Game-----\")\n",
    "                self.subject={\n",
    "                    'Science':[qus('which gas do plants absorb during photosynthesis?','Carbondioxide'),                       \n",
    "                               qus('What si the full form of WWW?','Worldwideweb'),\n",
    "                               qus('How many bones are there in the adult human body?','206')],\n",
    "                    'Mathematics':[qus('what is the only even prime number?','2'),\n",
    "                                   qus('What is the sum of first 5 natural numbers?','15'),\n",
    "                                   qus('What is the name of the mathematical symbol π','Pi')],\n",
    "                    'Geography':[qus('What is the tallest mountain range on Earth?','Everest'),\n",
    "                                 qus('What is the capital of France?','Paris'),\n",
    "                                 qus('Which planet is called Red Planet?','Mars')],\n",
    "                    'Others':[qus('Which country wont he most recent FIFA world cup as of 2022?','Argentina'),\n",
    "                              qus('Who invented the light bulb?','Edison'),\n",
    "                              qus('In what year did India declare itself a Democratic and Republic state with adoption of consitution?','1950')]   #qus refering the class qus \n",
    "                            }\n",
    "                self.no_of_crctans=0\n",
    "                self.no_of_totalquestion=0\n",
    "            def ask_category(self):\n",
    "                print(\"\"\"Options are:\n",
    "                    1. Science\n",
    "                    2. Mathematics\n",
    "                    3. Geography\n",
    "                    4. Others\"\"\")\n",
    "                ch=input(\"Enter your choice:\").capitalize()\n",
    "                return ch\n",
    "            def ask_question(self,qus):                      #passed the class instance as arugument \n",
    "                print(\"Question :\",qus.question)\n",
    "                try:\n",
    "                    self.ans=input(\"Enter Answer:\").capitalize()\n",
    "                except Exception:\n",
    "                    print(\"Error: Unexpeted error\")\n",
    "            def check_answer(self,qus):\n",
    "                if self.ans.capitalize()==qus.answer:\n",
    "                    print(\"Correct\")\n",
    "                    self.no_of_crctans+=1\n",
    "                else:\n",
    "                    print(\"Incorrect answer, The correct answer is\",qus.answer)\n",
    "                self.no_of_totalquestion+=1\n",
    "            def display_score(self):\n",
    "                print(\"The Score is\",self.no_of_crctans,'/',self.no_of_totalquestion)\n",
    "                print(f\"The Total percentage is {(self.no_of_crctans/self.no_of_totalquestion) *100:.2f}%\")\n",
    "            def play_game(self):\n",
    "        \n",
    "                subject1=self.ask_category()\n",
    "                if subject1 not in self.subject:\n",
    "                    print(\"Invalid subject!, Please choose from above listed subject.\")\n",
    "                    self.ask_category()\n",
    "                q1=self.subject[subject1]\n",
    "                for i in q1:\n",
    "                    self.ask_question(i)\n",
    "                    self.check_answer(i)\n",
    "                self.display_score()\n",
    "                play_again = input(\"Do you want to play one more time (yes/no): \").lower()\n",
    "                if play_again == \"yes\":\n",
    "                    self.no_of_crctans = 0\n",
    "                    self.no_of_totalquestion = 0\n",
    "                    print(\"-------------------------------\")\n",
    "                    self.play_game()\n",
    "                print(\"Thank you! Exited the General Knowedge Game\")\n",
    "                print(\"------------------------------------------------\")\n",
    "        if __name__ == \"__main__\":\n",
    "            qz = quizgame()\n",
    "            qz.play_game()\n",
    "            \n",
    "    def rpsgame():\n",
    "        print(\"-----Welcome to Rock Paper Scissor Game-----\")\n",
    "        option=['rock','paper','scissor']\n",
    "        while True:\n",
    "            comp_choice=random.choice(option)     #used  ramdom.choice this choose one random string from list\n",
    "            print(\"\"\"Option are:\n",
    "                1.rock\n",
    "                2.paper\n",
    "                3.scissor\"\"\")\n",
    "            choice=input(\"Enter your choice:\").lower()\n",
    "            if choice==comp_choice:\n",
    "                print(\"Same choice, Hence tied\")\n",
    "            elif choice=='rock':\n",
    "                if comp_choice=='paper':\n",
    "                    print(f\"You Loose! {comp_choice} beats {choice}\")\n",
    "                else:\n",
    "                    print(f\"You Win! {choice} beats {comp_choice}\")\n",
    "            elif choice=='paper':\n",
    "                if comp_choice=='rock':\n",
    "                    print(f\"You Win! {choice} beats {comp_choice}\")\n",
    "                else:\n",
    "                    print(f\"You Loose! {comp_choice} beats {choice}\")\n",
    "            elif choice=='sissor':\n",
    "                if comp_choice=='rock':\n",
    "                    print(f\"You Loose! {comp_choice} beats {choice}\")\n",
    "                else:\n",
    "                    print(f\"You Win! {choice} beats {comp_choice}\")\n",
    "            pa=input(\"Do you want to play rock paper scisssor game again?(yes/no):\")                         \n",
    "            if pa!='yes':\n",
    "                print(\"Thank you!, Exited the rock paper scisssor game\")\n",
    "                print(\"---------------------------------------------------\")\n",
    "                break\n",
    "                \n",
    "    def rspmultiplayer():\n",
    "        class twouser:\n",
    "            def __init__(self):\n",
    "                print(\"-----Welcome to Rock Paper Scissor Multiplayer Games-----\\n\")\n",
    "                self.user1=input(\"Hello User1!, Enter your name:\").capitalize()\n",
    "                self.user2=input(\"Hello User2!, Enter your name:\").capitalize()\n",
    "                self.options=['rock','paper','scissor']\n",
    "            def game(self):\n",
    "                while True:\n",
    "                    print(\"\"\"Option are:\n",
    "                        1.rock\n",
    "                        2.paper\n",
    "                        3.scissor\"\"\")\n",
    "                    ch_user1=input(f\"{self.user1} enter your choice:\")\n",
    "                    if ch_user1 not in self.options:\n",
    "                        print(\"Invalid option, please select from above option:\")\n",
    "                        self.game()\n",
    "                    ch_user2=input(f\"{self.user2} enter your choice:\")\n",
    "                    if ch_user2 not in self.options:\n",
    "                        print(\"Invalid option, please select from above option:\")\n",
    "                        self.game()\n",
    "                    if ch_user1==ch_user2:\n",
    "                        print(\"Both select same choice, Hence tied\")\n",
    "                    elif (ch_user1=='rock' and ch_user2=='scissor') or (ch_user1=='paper' and ch_user2=='rock') or (ch_user1=='scissor' and ch_user2=='paper'):\n",
    "                        print(f\"{ch_user1} beats {ch_user2}! {self.user1} Wins!\")\n",
    "                    elif (ch_user2=='rock' and ch_user1=='scissor') or (ch_user2=='paper' and ch_user1=='rock') or (ch_user2=='scissor' and ch_user1=='paper'):\n",
    "                        print(f\"{ch_user2} beats {ch_user1}! {self.user2} Wins!\")\n",
    "                    pl=input(\"Do you want to play again?(yes/no):\")\n",
    "                    if pl!='yes':\n",
    "                        print(\"Thank you! Excited the Rock Paper Scissor Multiplayer Game\")\n",
    "                        print(\"----------------------------------------------------------\")\n",
    "                        break\n",
    "        tu=twouser()\n",
    "        tu.game()\n",
    "\n",
    "    def findword():\n",
    "        print(\"-----Welcome to Word Guessing Game-----\")\n",
    "        while True:\n",
    "            words = [\"apple\", \"banana\", \"orange\", \"grape\", \"kiwi\", \"mango\", \"strawberry\", \"watermelon\"]\n",
    "            secret = random.choice(words)\n",
    "            num=len(secret)\n",
    "            a = 3\n",
    "            clue=0\n",
    "            print(\"You have 3 attempts to guess the secret word.\")\n",
    "            print(f\"Guess the word that I am thinking of. It has {num} letters.\")\n",
    "\n",
    "            while a > 0:\n",
    "                answer = input(\"Enter your guess: \").lower()\n",
    "\n",
    "                if answer == secret:\n",
    "                    print(\"Congratulations! You guessed the word correctly.\")\n",
    "                    break\n",
    "                else:\n",
    "                    a -= 1\n",
    "                    if clue==0:\n",
    "                        d=input(\"No, Would you like to know hint?(yes/no):\")\n",
    "                        if d=='yes':\n",
    "                            print(f\"The hint is they are fruits.\")\n",
    "                            clue+=1\n",
    "                    print(\"Incorrect guess. You have\", a, \"attempts left.\")\n",
    "\n",
    "            if a == 0:\n",
    "                print(\"Out of attempts. The secret word was:\", secret)\n",
    "\n",
    "            choice = input(\"Do you want to play Word Guessing again? (yes/no): \")\n",
    "            if choice!= \"yes\":\n",
    "                print(\"Thank you! Exicted the Word Guessing game\")\n",
    "                print(\"--------------------------------------------------------\")\n",
    "                break\n",
    "    @staticmethod\n",
    "    def menu():\n",
    "        print(\"\"\"Option are:\n",
    "              1.Play Riddle Puzzle\n",
    "              2.Play Arithmetic Puzzle\n",
    "              3.Play General Knowledge quiz game\n",
    "              4.Play Rock-Paper-Scissor game with the computer\n",
    "              5.Play Rock-Paper-Scissor game with a user\n",
    "              6.Play Word-Guessing game with the computer\n",
    "              Enter any option by typing a number between 1 and 6\"\"\")\n",
    "def main():\n",
    "    print(\"*******Welcome to the Multi Games Play:*********\")\n",
    "    while True:\n",
    "        try:\n",
    "            gamemenu.menu()\n",
    "            choice=int(input(\"Enter your choice:\"))\n",
    "            if choice==1:\n",
    "                g=gamemenu.riddle()\n",
    "            elif choice==2:\n",
    "                g=gamemenu.arthmeticpuzzle()\n",
    "            elif choice==3:\n",
    "                g=gamemenu.generalknowedge()\n",
    "            elif choice==4:\n",
    "                g=gamemenu.rpsgame()\n",
    "            elif choice==5:\n",
    "                g=gamemenu.rspmultiplayer()\n",
    "            elif choice==6:\n",
    "                g=gamemenu.findword()\n",
    "            else:\n",
    "                print(\"Invalid Number! choice from 1 to 6\")\n",
    "        except ValueError:\n",
    "            print(\"Error! enter the choice in number\")\n",
    "    \n",
    "        ch=input(\"Would you like to play again?(yes/no)\").lower()\n",
    "        if ch!='yes':\n",
    "            print(\"-----------------Thank you!----------------\")\n",
    "            break\n",
    "if __name__=='__main__':\n",
    "    main()"
   ]
  },
  {
   "cell_type": "code",
   "execution_count": null,
   "id": "e4ce12f4-1175-43a6-b71c-7a7dae93fc08",
   "metadata": {},
   "outputs": [],
   "source": []
  }
 ],
 "metadata": {
  "kernelspec": {
   "display_name": "Python 3 (ipykernel)",
   "language": "python",
   "name": "python3"
  },
  "language_info": {
   "codemirror_mode": {
    "name": "ipython",
    "version": 3
   },
   "file_extension": ".py",
   "mimetype": "text/x-python",
   "name": "python",
   "nbconvert_exporter": "python",
   "pygments_lexer": "ipython3",
   "version": "3.12.4"
  }
 },
 "nbformat": 4,
 "nbformat_minor": 5
}
