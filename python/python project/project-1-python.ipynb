{
 "cells": [
  {
   "cell_type": "code",
   "execution_count": 1,
   "id": "6412d4ef-bf0a-4cf6-9892-1973597bd744",
   "metadata": {},
   "outputs": [
    {
     "name": "stdout",
     "output_type": "stream",
     "text": [
      "Welcome to Game\n",
      "Riddle Questions:\n",
      "What tastes better than it smells?\n"
     ]
    },
    {
     "name": "stdin",
     "output_type": "stream",
     "text": [
      "Enter answer: tongue\n"
     ]
    },
    {
     "name": "stdout",
     "output_type": "stream",
     "text": [
      "Correct\n",
      "Riddle Questions:\n",
      "What has to be broken before you can use it?\n"
     ]
    },
    {
     "name": "stdin",
     "output_type": "stream",
     "text": [
      "Enter answer: an egg\n"
     ]
    },
    {
     "name": "stdout",
     "output_type": "stream",
     "text": [
      "Incorrect. The correct answer is 'An egg'\n",
      "Riddle Questions:\n",
      "What has a neck but no head?\n"
     ]
    },
    {
     "name": "stdin",
     "output_type": "stream",
     "text": [
      "Enter answer: a bottle\n"
     ]
    },
    {
     "name": "stdout",
     "output_type": "stream",
     "text": [
      "Incorrect. The correct answer is 'A bottle'\n",
      "Your total score :1/3\n",
      "\n",
      "Your score: 33.33%\n",
      "-----------------------------------------------\n"
     ]
    },
    {
     "name": "stdin",
     "output_type": "stream",
     "text": [
      "Do you want to play again?(yes/no)yes for playing agian and no for playing next game textpuzzle game: no\n"
     ]
    },
    {
     "name": "stdout",
     "output_type": "stream",
     "text": [
      "Thank you! see you again...\n",
      "-----------------------------------------------\n",
      "Welcome to Text Puzzle Game\n",
      "Text based questions;\n",
      "unscramble the word: cmraea\n"
     ]
    },
    {
     "name": "stdin",
     "output_type": "stream",
     "text": [
      "Enter answer:  j\n"
     ]
    },
    {
     "name": "stdout",
     "output_type": "stream",
     "text": [
      "Incorrect answer,The correct answer is  camera\n",
      "Text based questions;\n",
      "unscramble the word: rneag\n"
     ]
    },
    {
     "name": "stdin",
     "output_type": "stream",
     "text": [
      "Enter answer:  anger\n"
     ]
    },
    {
     "name": "stdout",
     "output_type": "stream",
     "text": [
      "Correct\n",
      "Text based questions;\n",
      "unscramble the word: rewto\n"
     ]
    },
    {
     "name": "stdin",
     "output_type": "stream",
     "text": [
      "Enter answer:  k\n"
     ]
    },
    {
     "name": "stdout",
     "output_type": "stream",
     "text": [
      "Incorrect answer,The correct answer is  tower\n",
      "Your total score :1/3\n",
      "\n",
      "Your score: 33.33%\n",
      "-----------------------------------------------\n"
     ]
    },
    {
     "name": "stdin",
     "output_type": "stream",
     "text": [
      "Do you want to play again?(yes/no): no\n"
     ]
    },
    {
     "name": "stdout",
     "output_type": "stream",
     "text": [
      "Thank you! see you again...\n"
     ]
    }
   ],
   "source": [
    "#task1\n",
    "from abc import ABC,abstractmethod\n",
    "import random\n",
    "class playgame(ABC):\n",
    "    @abstractmethod\n",
    "    def __init__(self):\n",
    "        self.no_of_puzzle=0\n",
    "        self.no_of_crtans=0\n",
    "    @abstractmethod\n",
    "    def play_game(self):\n",
    "        pass\n",
    "class riddle(playgame):\n",
    "    def __init__(self):\n",
    "        super().__init__()\n",
    "        self.riddle={'What has to be broken before you can use it?': 'An egg',\n",
    "                     'What goes up but never comes down?':'age',\n",
    "                     'The more you take, the more you leave behind. What am I?':'Footsteps',\n",
    "                     'What has a neck but no head?':'A bottle',\n",
    "                     'What tastes better than it smells?':'tongue'}\n",
    "        \n",
    "    def play_game(self):\n",
    "        print(\"Welcome to Game\")\n",
    "        while True:\n",
    "            self.no_of_crtans=0\n",
    "            p=list(self.riddle.items()) if isinstance(self.riddle, dict) else self.riddle\n",
    "            random_riddle = random.sample(p,3)\n",
    "            for question,ans in random_riddle:\n",
    "                print(\"Riddle Questions:\")\n",
    "                print(question)\n",
    "                answer=input(\"Enter answer:\")\n",
    "            \n",
    "                if answer==ans:\n",
    "                    print(\"Correct\")\n",
    "                    self.no_of_crtans+=1\n",
    "                else:\n",
    "                    print(f\"Incorrect. The correct answer is '{ans}'\")\n",
    "                self.no_of_puzzle +=1\n",
    "            if self.no_of_puzzle>0:\n",
    "                print(f\"Your total score :{self.no_of_crtans}/{self.no_of_puzzle}\")\n",
    "                print(f\"\\nYour score: {self.no_of_crtans / self.no_of_puzzle * 100:.2f}%\")\n",
    "                print(\"-----------------------------------------------\")\n",
    "            else:\n",
    "                print(\"\\nNo riddles were answered.\")\n",
    "            choice=input(\"Do you want to play again?(yes/no)yes for playing agian and no for playing next game textpuzzle game:\")\n",
    "            if choice.lower()=='no':\n",
    "                print(\"Thank you! see you again...\")\n",
    "                print(\"-----------------------------------------------\")\n",
    "                break\n",
    "class textbasedpuzzle(playgame):\n",
    "    \n",
    "    def __init__(self):\n",
    "        super().__init__()\n",
    "        self.textpuzzle={'napda': 'panda',\n",
    "                        'cmraea': 'camera',\n",
    "                        'lagratilo': 'alligator',\n",
    "                        'eyvre': 'every',\n",
    "                        'scors': 'cross',\n",
    "                        'rneag': 'anger',\n",
    "                        'rewto': 'tower'}\n",
    "                                            \n",
    "    def play_game(self):\n",
    "        print(\"Welcome to Text Puzzle Game\")\n",
    "        while True:\n",
    "            self.no_of_crtans=0\n",
    "            p=list(self.textpuzzle.items()) if isinstance(self.textpuzzle, dict) else self.textpuzzle    #converting dict to list and checking it is \n",
    "            random_word = random.sample(p,3)      #randomly taking three value from the list\n",
    "            for question,answer in random_word:\n",
    "                print(\"Text based questions;\")\n",
    "                print(f\"unscramble the word: {question}\")\n",
    "                ans=input(\"Enter answer: \")\n",
    "                if answer==ans:\n",
    "                    print(\"Correct\")\n",
    "                    self.no_of_crtans+=1\n",
    "                else:\n",
    "                    print(\"Incorrect answer,The correct answer is \",answer)\n",
    "                self.no_of_puzzle+=1\n",
    "            if self.no_of_puzzle>0:\n",
    "                print(f\"Your total score :{self.no_of_crtans}/3\")\n",
    "                print(f\"\\nYour score: {self.no_of_crtans / 3 * 100:.2f}%\")\n",
    "                print(\"-----------------------------------------------\")\n",
    "            else:\n",
    "                print(\"\\nNot answered any questions.\")\n",
    "            choice1=input(\"Do you want to play again?(yes/no):\")\n",
    "            if choice1.lower()=='no':\n",
    "                print(\"Thank you! see you again...\")\n",
    "                break\n",
    "r=riddle()\n",
    "r.play_game()  \n",
    "tp=textbasedpuzzle()\n",
    "tp.play_game()"
   ]
  },
  {
   "cell_type": "code",
   "execution_count": 15,
   "id": "19817436-a803-406d-a6ef-1fddf364a50e",
   "metadata": {},
   "outputs": [
    {
     "name": "stdout",
     "output_type": "stream",
     "text": [
      "welcome to Math Logic Puzzle game:\n",
      "questions:\n",
      " 16 - 10 Note:if you get division please round of the value to small like 1.934 to 1\n"
     ]
    },
    {
     "name": "stdin",
     "output_type": "stream",
     "text": [
      "Enter Answer: 0\n"
     ]
    },
    {
     "name": "stdout",
     "output_type": "stream",
     "text": [
      "Incorrect answer. The correct answer is 6\n"
     ]
    },
    {
     "name": "stdin",
     "output_type": "stream",
     "text": [
      "Do you want to play again?(yes/no): no\n"
     ]
    },
    {
     "name": "stdout",
     "output_type": "stream",
     "text": [
      "-----------------------------------------------\n",
      "Your total score :0/1\n",
      "\n",
      "Your score: 0.00%\n",
      "-----------------------------------------------\n",
      "Thank you! see you again...\n"
     ]
    }
   ],
   "source": [
    "# task 2\n",
    "import random\n",
    "class logicpuzzle:\n",
    "    def __init__(self):\n",
    "        print(\"welcome to Math Logic Puzzle game:\")\n",
    "        self.operators = ['+', '-', '*', '//']\n",
    "        self.no_of_crctans=0\n",
    "        self.no_of_puzzle=0\n",
    "\n",
    "    def puzzle(self):\n",
    "        a = random.randint(1, 20)\n",
    "        b = random.randint(1, 20)\n",
    "        op = random.choice(self.operators)\n",
    "\n",
    "       \n",
    "        if op =='+':\n",
    "            answer= a + b\n",
    "        elif op =='-':\n",
    "            answer= a - b\n",
    "        elif op =='*':\n",
    "            answer = a * b\n",
    "        elif op =='//':\n",
    "            answer= a // b   # i gave floor divisor to round the value with lessnumber\n",
    "\n",
    "        return a, b, op, answer\n",
    "\n",
    "def main():\n",
    "    lp = logicpuzzle()\n",
    "    \n",
    "    while True:\n",
    "        a, b, op, answer = lp.puzzle()\n",
    "        print(f\"questions:\\n {a} {op} {b} \")\n",
    "        try:\n",
    "            ans = int(input(\"Enter Answer:\"))\n",
    "            if ans == answer:\n",
    "                print(\"Correct\")\n",
    "                lp.no_of_crctans += 1\n",
    "            else:\n",
    "                print(f\"Incorrect answer. The correct answer is {answer}\")\n",
    "            lp.no_of_puzzle += 1\n",
    "        except ValueError as e:\n",
    "            print(f\"Error: {e}\")\n",
    "            \n",
    "        choice1 = input(\"Do you want to play again?(yes/no):\")\n",
    "        if choice1.lower() == 'no':\n",
    "            \n",
    "            break\n",
    "    if lp.no_of_puzzle > 0:\n",
    "        print(\"-----------------------------------------------\")\n",
    "        print(f\"Your total score :{lp.no_of_crctans}/{lp.no_of_puzzle}\")\n",
    "        print(f\"\\nYour score: {lp.no_of_crctans / lp.no_of_puzzle * 100:.2f}%\")\n",
    "        print(\"-----------------------------------------------\")\n",
    "        print(\"Thank you! see you again...\")\n",
    "    else:\n",
    "        print(\"\\nNot answered any questions.\")\n",
    "\n",
    "if __name__ == '__main__':\n",
    "    main()"
   ]
  },
  {
   "cell_type": "code",
   "execution_count": 3,
   "id": "4002a8e2-7e33-4437-be13-5a32943e8708",
   "metadata": {},
   "outputs": [
    {
     "name": "stdout",
     "output_type": "stream",
     "text": [
      "Welcome to Game\n",
      "Options are:\n",
      "                1. Science\n",
      "                2. Mathematics\n",
      "                3. Geography\n",
      "                4. Others\n"
     ]
    },
    {
     "name": "stdin",
     "output_type": "stream",
     "text": [
      "Enter your choice: science\n"
     ]
    },
    {
     "name": "stdout",
     "output_type": "stream",
     "text": [
      "Question : which gas do plants absorb during photosynthesis?\n"
     ]
    },
    {
     "name": "stdin",
     "output_type": "stream",
     "text": [
      "Enter Answer: carbondioxide\n"
     ]
    },
    {
     "name": "stdout",
     "output_type": "stream",
     "text": [
      "Correct\n",
      "Question : What is the full form of WWW?\n"
     ]
    },
    {
     "name": "stdin",
     "output_type": "stream",
     "text": [
      "Enter Answer: worldwideweb\n"
     ]
    },
    {
     "name": "stdout",
     "output_type": "stream",
     "text": [
      "Correct\n",
      "Question : How many bones are there in the adult human body?\n"
     ]
    },
    {
     "name": "stdin",
     "output_type": "stream",
     "text": [
      "Enter Answer: 32\n"
     ]
    },
    {
     "name": "stdout",
     "output_type": "stream",
     "text": [
      "Incorrect answer, The correct answer is 206\n",
      "The Score is 2 / 3\n",
      "The Total percentage is 66.67%\n"
     ]
    },
    {
     "name": "stdin",
     "output_type": "stream",
     "text": [
      "Do you want to play one more time (yes/no):  no\n"
     ]
    },
    {
     "name": "stdout",
     "output_type": "stream",
     "text": [
      "Thank you!\n"
     ]
    }
   ],
   "source": [
    "#task 3\n",
    "class qus:\n",
    "    def __init__(self,question,answer):\n",
    "        self.question=question\n",
    "        self.answer=answer\n",
    "class quizgame:\n",
    "    print(\"Welcome to Game\")\n",
    "    def __init__(self):\n",
    "        \n",
    "        self.subject={\n",
    "            'Science':[qus('which gas do plants absorb during photosynthesis?','Carbondioxide'),                       \n",
    "                       qus('What is the full form of WWW?','Worldwideweb'),\n",
    "                       qus('How many bones are there in the adult human body?','206')],\n",
    "            'Mathematics':[qus('what is the only even prime number?','2'),\n",
    "                           qus('What is the sum of first 5 natural numbers?','15'),\n",
    "                           qus('What is the name of the mathematical symbol π','Pi')],\n",
    "            'Geography':[qus('What is the tallest mountain range on Earth?','Everest'),\n",
    "                         qus('What is the capital of France?','Paris'),\n",
    "                         qus('Which planet is called Red Planet?','Mars')],\n",
    "            'Others':[qus('Which country wont he most recent FIFA world cup as of 2022?','Argentina'),\n",
    "                      qus('Who invented the light bulb?','Edison'),\n",
    "                      qus('In what year did India declare itself a Democratic and Republic state with adoption of consitution?','1950')]   #qus refering the class qus \n",
    "        }\n",
    "        self.no_of_crctans=0\n",
    "        self.no_of_totalquestion=0\n",
    "    def ask_category(self):\n",
    "        print(\"\"\"Options are:\n",
    "                1. Science\n",
    "                2. Mathematics\n",
    "                3. Geography\n",
    "                4. Others\"\"\")\n",
    "        ch=input(\"Enter your choice:\").capitalize()\n",
    "        return ch\n",
    "    def ask_question(self,qus):                      #passed the class instance as arugument \n",
    "        print(\"Question :\",qus.question)\n",
    "        try:\n",
    "            self.ans=input(\"Enter Answer:\").capitalize()\n",
    "        except Exception:\n",
    "            print(\"Error: Unexpeted error\")\n",
    "    def check_answer(self,qus):\n",
    "        if self.ans==qus.answer:\n",
    "            print(\"Correct\")\n",
    "            self.no_of_crctans+=1\n",
    "        else:\n",
    "            print(\"Incorrect answer, The correct answer is\",qus.answer)\n",
    "        self.no_of_totalquestion+=1\n",
    "    def display_score(self):\n",
    "        print(\"The Score is\",self.no_of_crctans,'/',self.no_of_totalquestion)\n",
    "        print(f\"The Total percentage is {(self.no_of_crctans/self.no_of_totalquestion) *100:.2f}%\")\n",
    "    def play_game(self):\n",
    "        \n",
    "        subject1=self.ask_category()\n",
    "        if subject1 not in self.subject:\n",
    "            print(\"Invalid subject!, Please choose from above listed subject.\")\n",
    "            self.ask_category()\n",
    "        q1=self.subject[subject1]\n",
    "        for i in q1:\n",
    "            self.ask_question(i)\n",
    "            self.check_answer(i)\n",
    "        self.display_score()\n",
    "        play_again = input(\"Do you want to play one more time (yes/no): \")\n",
    "        if play_again.lower() == \"yes\":\n",
    "            self.no_of_crctans = 0\n",
    "            self.no_of_totalquestion = 0\n",
    "            print(\"-------------------------------\")\n",
    "            self.play_game()\n",
    "        print(\"Thank you!\")\n",
    "\n",
    "qz = quizgame()\n",
    "qz.play_game()\n",
    "    "
   ]
  },
  {
   "cell_type": "code",
   "execution_count": 35,
   "id": "1dc060bc-2208-4646-9867-50aec020efac",
   "metadata": {},
   "outputs": [
    {
     "name": "stdout",
     "output_type": "stream",
     "text": [
      "Welcome to Rock Paper Scissor Game\n",
      "\n",
      "Option are:\n",
      "                1.rock\n",
      "                2.paper\n",
      "                3.scissor\n"
     ]
    },
    {
     "name": "stdin",
     "output_type": "stream",
     "text": [
      "Enter your choice: paper\n"
     ]
    },
    {
     "name": "stdout",
     "output_type": "stream",
     "text": [
      "Same choice, Hence tied\n"
     ]
    },
    {
     "name": "stdin",
     "output_type": "stream",
     "text": [
      "Do you want to play again?(yes/no): yes\n"
     ]
    },
    {
     "name": "stdout",
     "output_type": "stream",
     "text": [
      "Option are:\n",
      "                1.rock\n",
      "                2.paper\n",
      "                3.scissor\n"
     ]
    },
    {
     "name": "stdin",
     "output_type": "stream",
     "text": [
      "Enter your choice: paper\n"
     ]
    },
    {
     "name": "stdout",
     "output_type": "stream",
     "text": [
      "You Win! paper beats rock\n"
     ]
    },
    {
     "name": "stdin",
     "output_type": "stream",
     "text": [
      "Do you want to play again?(yes/no): no\n"
     ]
    },
    {
     "name": "stdout",
     "output_type": "stream",
     "text": [
      "Thank you!, Exited the game\n"
     ]
    }
   ],
   "source": [
    "#task4\n",
    "import random\n",
    "class rps:\n",
    "    def __init__(self):\n",
    "        self.option=['rock','paper','scissor']\n",
    "    def game(self):\n",
    "        print(\"Welcome to Rock Paper Scissor Game\\n\")\n",
    "        while True:\n",
    "            comp_choice=random.choice(self.option)                 #used  ramdom.choice this choose one random string from list\n",
    "            print(\"\"\"Option are:\n",
    "                1.rock\n",
    "                2.paper\n",
    "                3.scissor\"\"\")\n",
    "            choice=input(\"Enter your choice:\").lower()\n",
    "           \n",
    "            if choice==comp_choice:\n",
    "                print(\"Same choice, Hence tied\")\n",
    "            elif choice=='rock':\n",
    "                if comp_choice=='paper':\n",
    "                    print(f\"You Loose! {comp_choice} beats {choice}\")\n",
    "                else:\n",
    "                    print(f\"You Win! {choice} beats {comp_choice}\")\n",
    "            elif choice=='paper':\n",
    "                if comp_choice=='rock':\n",
    "                    print(f\"You Win! {choice} beats {comp_choice}\")\n",
    "                else:\n",
    "                    print(f\"You Loose! {comp_choice} beats {choice}\")\n",
    "            elif choice=='scissor':\n",
    "                if comp_choice=='rock':\n",
    "                    print(f\"You Loose! {comp_choice} beats {choice}\")\n",
    "                else:\n",
    "                    print(f\"You Win! {choice} beats {comp_choice}\")\n",
    "            pa=input(\"Do you want to play again?(yes/no):\")                         \n",
    "            if pa!='yes':\n",
    "                print(\"Thank you!, Exited the game\")\n",
    "                break\n",
    "r=rps()\n",
    "r.game()\n",
    "        "
   ]
  },
  {
   "cell_type": "code",
   "execution_count": null,
   "id": "39569c10-0d49-4405-b371-c40a1f9a46bf",
   "metadata": {},
   "outputs": [],
   "source": [
    "#task 5\n",
    "class twouser:\n",
    "    def __init__(self):\n",
    "        print(\"Welcome to Rock Paper Scissor multiplayer games:\\n\")\n",
    "        self.user1=input(\"Hello User1!, Enter your name:\").capitalize()\n",
    "        self.user2=input(\"Hello User2!, Enter your name:\").capitalize()\n",
    "        self.options=['rock','paper','scissor']\n",
    "    def game(self):\n",
    "        \n",
    "        while True:\n",
    "            print(\"\"\"Option are:\n",
    "                1.rock\n",
    "                2.paper\n",
    "                3.scissor\"\"\")\n",
    "            ch_user1=input(f\"{self.user1} enter your choice:\")\n",
    "            if ch_user1 not in self.options:\n",
    "                print(\"Invalid option, please select from above option:\")\n",
    "                self.game()\n",
    "            ch_user2=input(f\"{self.user2} enter your choice:\")\n",
    "            if ch_user2 not in self.options:\n",
    "                print(\"Invalid option, please select from above option:\")\n",
    "                self.game()\n",
    "            if ch_user1==ch_user2:\n",
    "                print(\"Both select same choice, Hence tied\")\n",
    "            elif (ch_user1=='rock' and ch_user2=='scissor') or (ch_user1=='paper' and ch_user2=='rock') or (ch_user1=='scissor' and ch_user2=='paper'):\n",
    "                print(f\"{ch_user1} beats {ch_user2}! {self.user1} Wins!\")\n",
    "            elif (ch_user2=='rock' and ch_user1=='scissor') or (ch_user2=='paper' and ch_user1=='rock') or (ch_user2=='scissor' and ch_user1=='paper'):\n",
    "                print(f\"{ch_user2} beats {ch_user1}! {self.user2} Wins!\")\n",
    "            pl=input(\"Do you want to play again?(yes/no):\")\n",
    "            if pl!='yes':\n",
    "                print(\"Thank you! Excited the game\")\n",
    "                break\n",
    "tu=twouser()\n",
    "tu.game()"
   ]
  }
 ],
 "metadata": {
  "kernelspec": {
   "display_name": "Python 3 (ipykernel)",
   "language": "python",
   "name": "python3"
  },
  "language_info": {
   "codemirror_mode": {
    "name": "ipython",
    "version": 3
   },
   "file_extension": ".py",
   "mimetype": "text/x-python",
   "name": "python",
   "nbconvert_exporter": "python",
   "pygments_lexer": "ipython3",
   "version": "3.12.4"
  }
 },
 "nbformat": 4,
 "nbformat_minor": 5
}
