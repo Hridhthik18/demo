{
 "cells": [
  {
   "cell_type": "code",
   "execution_count": 18,
   "id": "2531335c-b113-45a2-b5da-bc696b808829",
   "metadata": {},
   "outputs": [
    {
     "name": "stdin",
     "output_type": "stream",
     "text": [
      "enter a string: hridhthik\n"
     ]
    },
    {
     "name": "stdout",
     "output_type": "stream",
     "text": [
      "not a pallindrome\n"
     ]
    }
   ],
   "source": [
    "# task1 pallindrome\n",
    "def pallindrome():\n",
    "    a=input('enter a string:')\n",
    "    reverse=a[::-1]\n",
    "\n",
    "    if a==reverse:\n",
    "        print('pallindrom')\n",
    "    else:\n",
    "        print('not a pallindrome')\n",
    "\n",
    "   \n",
    "    \n",
    "\n",
    "\n",
    "pallindrome()"
   ]
  },
  {
   "cell_type": "code",
   "execution_count": 15,
   "id": "90fffecd-45dc-49b5-94f8-d9a580ea2b8a",
   "metadata": {},
   "outputs": [
    {
     "name": "stdin",
     "output_type": "stream",
     "text": [
      "enter the limit: 3\n",
      "enter the name: zebra\n",
      "enter the name: cat\n",
      "enter the name: ant\n"
     ]
    },
    {
     "name": "stdout",
     "output_type": "stream",
     "text": [
      "['ant', 'cat', 'zebra']\n"
     ]
    }
   ],
   "source": [
    "# task2 sorting words\n",
    "\n",
    "def sort_words(lst1):\n",
    "    lst1.sort()\n",
    "    print(lst1)\n",
    "\n",
    "\n",
    "\n",
    "\n",
    "lst1=[]\n",
    "n=int(input(\"enter the limit:\"))\n",
    "for i in range(1,n+1):\n",
    "    elements=input(\"enter the name:\")\n",
    "    lst1.append(elements)\n",
    "\n",
    "sort_words(lst1)\n",
    "\n",
    "\n",
    "\n",
    "\n"
   ]
  },
  {
   "cell_type": "code",
   "execution_count": 20,
   "id": "24c3cdee-b9b9-41c5-86ea-6366e5d2a6e7",
   "metadata": {},
   "outputs": [
    {
     "name": "stdin",
     "output_type": "stream",
     "text": [
      "enter the character: a l p h a\n"
     ]
    },
    {
     "name": "stdout",
     "output_type": "stream",
     "text": [
      "alpha\n"
     ]
    }
   ],
   "source": [
    "# task3 char to string\n",
    "empty=[]\n",
    "def char_str(empty):\n",
    "    combine=''.join(empty)\n",
    "    print(combine)\n",
    "    \n",
    "\n",
    "user=input(\"enter the character:\").split()\n",
    "empty.extend(user)\n",
    "char_str(empty)\n"
   ]
  },
  {
   "cell_type": "code",
   "execution_count": 1,
   "id": "69d0d09c-bc8c-4f9d-8133-10b5eef8d596",
   "metadata": {},
   "outputs": [
    {
     "name": "stdin",
     "output_type": "stream",
     "text": [
      "Enter the number:  3\n",
      "Enter the number:  1\n",
      "Enter the number:  4\n",
      "Enter the number:  0\n",
      "Enter the number:  -31\n",
      "Enter the number:  20\n",
      "Enter the number:  40\n",
      "Enter the number:  0\n",
      "Enter the number:  -9\n",
      "Enter the number:  33\n"
     ]
    },
    {
     "name": "stdout",
     "output_type": "stream",
     "text": [
      "min = -31\n",
      "max = 40\n"
     ]
    }
   ],
   "source": [
    "# task4\n",
    "def display():\n",
    "    data = []\n",
    "    for i in range(1, 11):\n",
    "        user = int(input(\"Enter the number: \"))\n",
    "        data.append(user)\n",
    "\n",
    "    minimum = min(data)\n",
    "    maximum = max(data)\n",
    "\n",
    "    print(\"min =\", minimum)\n",
    "    print(\"max =\", maximum)\n",
    "\n",
    "display()\n"
   ]
  },
  {
   "cell_type": "code",
   "execution_count": 5,
   "id": "739fba08-d24f-4183-962b-1142061985b6",
   "metadata": {},
   "outputs": [
    {
     "name": "stdin",
     "output_type": "stream",
     "text": [
      "enter a key: item1\n",
      "enter a value: 45.50\n",
      "enter a key: item2\n",
      "enter a value: 35\n",
      "enter a key: item3\n",
      "enter a value: 41.30\n",
      "enter a key: item4\n",
      "enter a value: 29\n",
      "enter a key: item5\n",
      "enter a value: 49.89\n"
     ]
    },
    {
     "name": "stdout",
     "output_type": "stream",
     "text": [
      "min value 29.0\n",
      "max value 49.89\n"
     ]
    }
   ],
   "source": [
    "# task 5\n",
    "mydict={}\n",
    "def fun(mydict):\n",
    "    for i in range(5):\n",
    "        key=input('enter a key:')\n",
    "        value=float(input('enter a value:'))\n",
    "        mydict[key]=value\n",
    "    minimum=min(mydict.values())\n",
    "    maximum=max(mydict.values())\n",
    "    print('min value',minimum)\n",
    "    print('max value',maximum)\n",
    "fun(mydict)"
   ]
  },
  {
   "cell_type": "code",
   "execution_count": 9,
   "id": "2845c42e-c86c-46d7-9358-f8abb1bacc52",
   "metadata": {},
   "outputs": [
    {
     "name": "stdin",
     "output_type": "stream",
     "text": [
      "enter the name: mathew\n",
      "enter the age: 40\n",
      "enter the gender: male\n",
      "enter the occupation: hr\n"
     ]
    },
    {
     "name": "stdout",
     "output_type": "stream",
     "text": [
      "name: mathew \n",
      " age: 40 \n",
      " gender: male \n",
      " occupation: hr\n"
     ]
    }
   ],
   "source": [
    "# task6\n",
    "def f1():\n",
    "    name=input(\"enter the name:\")\n",
    "    age=int(input(\"enter the age:\"))\n",
    "    gender=input(\"enter the gender:\")\n",
    "    occupation=input(\"enter the occupation:\")\n",
    "    f2(name,age,gender,occupation)\n",
    "\n",
    "def f2(name,age,gender,occupation):\n",
    "    print(\"name:\",name,\"\\n age:\",age,\"\\n gender:\",gender,\"\\n occupation:\",occupation)\n",
    "\n",
    "\n",
    "f1()\n"
   ]
  },
  {
   "cell_type": "code",
   "execution_count": 7,
   "id": "d0ea4c4c-1871-4d64-962e-ac9b1294c62f",
   "metadata": {},
   "outputs": [
    {
     "name": "stdout",
     "output_type": "stream",
     "text": [
      "[('green', 1), ('blue', 2), ('yellow', 3), ('black', 4), ('red', 5)]\n"
     ]
    }
   ],
   "source": [
    "# TASK7\n",
    "def sort_color(color):\n",
    "    sortedcolor=sorted(color,key=lambda x:x[1])\n",
    "    print(sortedcolor)\n",
    "\n",
    "\n",
    "\n",
    "color=[('black',4),('green',1),('red',5),('blue',2),('yellow',3)]\n",
    "sort_color(color)"
   ]
  },
  {
   "cell_type": "code",
   "execution_count": 4,
   "id": "707f36b1-914b-4ab2-8fa9-9fb73e11fac6",
   "metadata": {},
   "outputs": [
    {
     "name": "stdout",
     "output_type": "stream",
     "text": [
      "['mandy']\n"
     ]
    }
   ],
   "source": [
    "# task8\n",
    "a=[\"andy\",\"mandy\",\"sandy\"]\n",
    "b=[\"handy\",\"burgundy\",\"mandy\"]\n",
    "   \n",
    "common=list(filter(lambda x:x in b,a))\n",
    "print(common)\n",
    "\n",
    "          \n",
    "            "
   ]
  },
  {
   "cell_type": "code",
   "execution_count": 11,
   "id": "7068e182-d4ca-4579-aa46-281510b42a3c",
   "metadata": {},
   "outputs": [
    {
     "name": "stdout",
     "output_type": "stream",
     "text": [
      "[29, 30, 31]\n"
     ]
    }
   ],
   "source": [
    "# task9\n",
    "c=[12,14,14]\n",
    "d=[17,16,17]\n",
    "\n",
    "addlist=list(map(lambda x,y:x+y,c,d))\n",
    "print(addlist)"
   ]
  },
  {
   "cell_type": "code",
   "execution_count": 27,
   "id": "66a53daa-89cc-43be-888b-3c13b41274f0",
   "metadata": {},
   "outputs": [
    {
     "name": "stdout",
     "output_type": "stream",
     "text": [
      "29\n"
     ]
    },
    {
     "data": {
      "text/plain": [
       "True"
      ]
     },
     "execution_count": 27,
     "metadata": {},
     "output_type": "execute_result"
    }
   ],
   "source": [
    "# task 10\n",
    "def display(dob, doj):\n",
    "    \n",
    "    dob_year = dob.split('-')\n",
    "    doj_year = doj.split('-')\n",
    "    \n",
    "   \n",
    "    age = int(doj_year[2]) - int(dob_year[2])\n",
    "    print(age)\n",
    "    return age>=18\n",
    "        \n",
    " \n",
    " \n",
    "\n",
    "# Call the function\n",
    "display(\"12-25-1991\", \"4-25-2020\")\n"
   ]
  },
  {
   "cell_type": "code",
   "execution_count": null,
   "id": "19a123a5-0684-4799-8e8d-3f95b239c570",
   "metadata": {},
   "outputs": [],
   "source": []
  }
 ],
 "metadata": {
  "kernelspec": {
   "display_name": "Python 3 (ipykernel)",
   "language": "python",
   "name": "python3"
  },
  "language_info": {
   "codemirror_mode": {
    "name": "ipython",
    "version": 3
   },
   "file_extension": ".py",
   "mimetype": "text/x-python",
   "name": "python",
   "nbconvert_exporter": "python",
   "pygments_lexer": "ipython3",
   "version": "3.12.4"
  }
 },
 "nbformat": 4,
 "nbformat_minor": 5
}
