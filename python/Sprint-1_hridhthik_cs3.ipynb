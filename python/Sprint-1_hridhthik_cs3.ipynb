{
 "cells": [
  {
   "cell_type": "code",
   "execution_count": 9,
   "id": "20fbafae-4c13-4053-8255-9175621ee959",
   "metadata": {
    "scrolled": true
   },
   "outputs": [
    {
     "name": "stdout",
     "output_type": "stream",
     "text": [
      "290\n",
      "2610309871280\n",
      "<class 'int'>\n"
     ]
    }
   ],
   "source": [
    "# task1:\n",
    "\n",
    "# a\n",
    "\n",
    "rollno=290\n",
    "print(rollno)\n",
    "print(id(rollno))\n",
    "print(type(rollno))\n",
    "# interpretation\n",
    "# The variable rollno is assigned an integer value.\n",
    "# The print(rollno) statement shows the value stored in rollno, which is 290.\n",
    "# The id() function returns a unique identifier for the object 290, and print(id(rollno)) outputs this identifier (memory location).\n",
    "# The type() function shows that rollno is of type int, and print(type(rollno)) confirms it as an integer."
   ]
  },
  {
   "cell_type": "code",
   "execution_count": 11,
   "id": "c92a4564-e2ae-47c9-b1e7-b4467cd68f95",
   "metadata": {},
   "outputs": [
    {
     "name": "stdout",
     "output_type": "stream",
     "text": [
      "hridhthik\n",
      "2610287027632\n",
      "<class 'str'>\n"
     ]
    }
   ],
   "source": [
    "# b\n",
    "\n",
    "firstname='hridhthik'\n",
    "print(firstname)\n",
    "print(id(firstname))\n",
    "print(type(firstname))\n",
    "\n",
    "# interpretation\n",
    "# The variable firstname is assigned the string 'hridhthik'.\n",
    "# The print(firstname) statement displays the string value, which is 'hridhthik'.\n",
    "# The id() function is used to return a unique identifier (memory address) for the string object 'hridhthik', and print(id(firstname)) outputs this memory location.\n",
    "# The type() function shows that the data type of firstname is a string (str), confirmed by print(type(firstname))."
   ]
  },
  {
   "cell_type": "code",
   "execution_count": 7,
   "id": "7fe74e46-062e-4ead-85cb-cc782601dcdd",
   "metadata": {},
   "outputs": [
    {
     "name": "stdout",
     "output_type": "stream",
     "text": [
      "premkumar\n",
      "1855564462832\n",
      "<class 'str'>\n"
     ]
    }
   ],
   "source": [
    "# c\n",
    "\n",
    "lastname='premkumar'\n",
    "print(lastname)\n",
    "print(id(lastname))\n",
    "print(type(lastname))\n",
    "\n",
    "# interpretation\n",
    "# The variable lastname is assigned the string 'premkumar'.\n",
    "# The print(lastname) statement displays the string value, which is 'premkumar'.\n",
    "# The id() function returns a unique identifier (memory address) for the string object 'premkumar', and print(id(lastname)) outputs this memory location.\n",
    "# The type() function shows that the data type of lastname is a string (str), confirmed by print(type(lastname))."
   ]
  },
  {
   "cell_type": "code",
   "execution_count": 11,
   "id": "5373d937-1301-498f-9474-3cf65053b2d3",
   "metadata": {},
   "outputs": [
    {
     "name": "stdout",
     "output_type": "stream",
     "text": [
      "50\n",
      "<class 'int'>\n",
      "140730341015512\n"
     ]
    }
   ],
   "source": [
    "# d\n",
    "\n",
    "maxmarks=50\n",
    "print(maxmarks)\n",
    "print(type(maxmarks))\n",
    "print(id(maxmarks))\n",
    "\n",
    "#interpretation\n",
    "# The variable maxmarks is assigned the integer value 50.\n",
    "# The print(maxmarks) statement displays the value, which is 50.\n",
    "# The type() function confirms that maxmarks is of type int (integer), as seen in print(type(maxmarks)).\n",
    "# The id() function outputs the memory location where the object 50 is stored in memory, which is shown by print(id(maxmarks))."
   ]
  },
  {
   "cell_type": "code",
   "execution_count": 13,
   "id": "35b228a2-3d57-4912-a535-c855268257ad",
   "metadata": {},
   "outputs": [
    {
     "name": "stdout",
     "output_type": "stream",
     "text": [
      "2\n"
     ]
    }
   ],
   "source": [
    "# task2\n",
    "# a\n",
    "var1=2\n",
    "print(var1)\n",
    "# interpretation\n",
    "# The variable var1 is assigned the integer value 2.\n",
    "# The print(var1) statement outputs the value of var1, which is 2."
   ]
  },
  {
   "cell_type": "code",
   "execution_count": 15,
   "id": "8c0d85c6-0eac-497e-a141-39c49310374d",
   "metadata": {},
   "outputs": [
    {
     "ename": "SyntaxError",
     "evalue": "invalid decimal literal (506859380.py, line 1)",
     "output_type": "error",
     "traceback": [
      "\u001b[1;36m  Cell \u001b[1;32mIn[15], line 1\u001b[1;36m\u001b[0m\n\u001b[1;33m    2var=2\u001b[0m\n\u001b[1;37m    ^\u001b[0m\n\u001b[1;31mSyntaxError\u001b[0m\u001b[1;31m:\u001b[0m invalid decimal literal\n"
     ]
    }
   ],
   "source": [
    "# b\n",
    "2var=2\n",
    "print(2var) \n",
    "# Variable Naming Rules in Python:\n",
    "# Variables must start with a letter (a-z, A-Z) or an underscore (_).\n",
    "# Variables cannot start with a digit (0-9).\n",
    "# After the first letter or underscore, a variable name can contain letters, digits, or underscores."
   ]
  },
  {
   "cell_type": "code",
   "execution_count": 17,
   "id": "de9b63cf-7aad-490b-b775-e9c7d95cb811",
   "metadata": {},
   "outputs": [
    {
     "ename": "SyntaxError",
     "evalue": "invalid syntax (1140940718.py, line 1)",
     "output_type": "error",
     "traceback": [
      "\u001b[1;36m  Cell \u001b[1;32mIn[17], line 1\u001b[1;36m\u001b[0m\n\u001b[1;33m    var 1=2\u001b[0m\n\u001b[1;37m        ^\u001b[0m\n\u001b[1;31mSyntaxError\u001b[0m\u001b[1;31m:\u001b[0m invalid syntax\n"
     ]
    }
   ],
   "source": [
    "# c\n",
    "var 1=2\n",
    "print(var 1)\n",
    "# var 1 = 2: This line attempts to assign the integer value 2 to a variable, but the variable name contains a space (var 1). Variable names in Python cannot contain spaces, and this will cause a syntax error.\n",
    "\n",
    "# print(var 1): This line tries to print the value of var 1, but because of the invalid variable name (with a space), this will also trigger a syntax error.\n"
   ]
  },
  {
   "cell_type": "code",
   "execution_count": 19,
   "id": "9aac3a48-ba78-4f32-ad11-05cf6397bb0f",
   "metadata": {},
   "outputs": [
    {
     "ename": "SyntaxError",
     "evalue": "invalid syntax (1981766040.py, line 1)",
     "output_type": "error",
     "traceback": [
      "\u001b[1;36m  Cell \u001b[1;32mIn[19], line 1\u001b[1;36m\u001b[0m\n\u001b[1;33m    var$2=2\u001b[0m\n\u001b[1;37m       ^\u001b[0m\n\u001b[1;31mSyntaxError\u001b[0m\u001b[1;31m:\u001b[0m invalid syntax\n"
     ]
    }
   ],
   "source": [
    "# d\n",
    "    var$2=2\n",
    "    print(var$2)\n",
    "# var$2 = 2: This line tries to assign the integer value 2 to the variable var$2, but variable names in Python cannot contain special characters like $. This will cause a syntax error.\n",
    "# print(var$2): Since the variable name is invalid due to the $ symbol, Python will not execute this line and will raise an error at the variable declaration."
   ]
  },
  {
   "cell_type": "code",
   "execution_count": 23,
   "id": "2c4e4ef9-a1bf-4e9d-8135-d3e37eb09ba6",
   "metadata": {},
   "outputs": [
    {
     "name": "stdout",
     "output_type": "stream",
     "text": [
      "15\n"
     ]
    }
   ],
   "source": [
    "# task3\n",
    "# a\n",
    "\n",
    "Class=15\n",
    "print(Class)\n",
    "\n",
    "# The line Class = 15 assigns the integer value 15 to the variable named Class. \n",
    "# In Python, variable names are case-sensitive, so Class is distinct from the keyword class.\n",
    "# The line print(Class) outputs the value of the variable Class to the console. Since Class holds the value 15, this will print 15.\n"
   ]
  },
  {
   "cell_type": "code",
   "execution_count": 13,
   "id": "c5d5aac3-0739-4bf5-a33b-a62cf6c353b2",
   "metadata": {},
   "outputs": [
    {
     "ename": "SyntaxError",
     "evalue": "invalid syntax (3576368909.py, line 4)",
     "output_type": "error",
     "traceback": [
      "\u001b[1;36m  Cell \u001b[1;32mIn[13], line 4\u001b[1;36m\u001b[0m\n\u001b[1;33m    class=15\u001b[0m\n\u001b[1;37m         ^\u001b[0m\n\u001b[1;31mSyntaxError\u001b[0m\u001b[1;31m:\u001b[0m invalid syntax\n"
     ]
    }
   ],
   "source": [
    "# b\n",
    "\n",
    "\n",
    "class=15\n",
    "print(class)\n",
    "\n",
    "# interpretation\n",
    "# The line class = 15 attempts to assign the integer value 15 to a variable named class.\n",
    "# However, class is a reserved keyword in Python, used to define classes.\n",
    "# Therefore, this line will raise a SyntaxError because you cannot use a reserved keyword as a variable name.\n",
    "# The line print(class) tries to print the value of the variable class.\n",
    "# Since the assignment in the previous line is invalid, this line will also not be executed due to the error.\n"
   ]
  },
  {
   "cell_type": "code",
   "execution_count": 19,
   "id": "461a755e-a2f3-4c58-a9b6-547759edba1b",
   "metadata": {},
   "outputs": [
    {
     "name": "stdout",
     "output_type": "stream",
     "text": [
      "13\n"
     ]
    }
   ],
   "source": [
    "# c\n",
    "DEF=13\n",
    "print(DEF)\n",
    "\n",
    "# interpretation\n",
    "# The line DEF = 13 assigns the integer value 13 to the variable named DEF. \n",
    "# In Python, variable names are case-sensitive, meaning that DEF is different from def, which is a reserved keyword used to define functions.\n",
    "# The line print(DEF) outputs the value of the variable DEF to the console. Since DEF holds the value 13, this will print 13.\n"
   ]
  },
  {
   "cell_type": "code",
   "execution_count": null,
   "id": "796a65f1-390f-44c6-b00c-600bbc4db2e1",
   "metadata": {},
   "outputs": [],
   "source": [
    "# d\n",
    "def=13\n",
    "print(def)\n",
    "\n",
    "# interpretation\n",
    "# The line def = 13 attempts to assign the integer value 13 to the variable named def. \n",
    "# However, def is a reserved keyword in Python, used to define functions. \n",
    "# Using a reserved keyword as a variable name is not allowed and will raise a SyntaxError.\n",
    "# The line print(def) tries to print the value of the variable def.\n",
    "# Since the assignment in the previous line is invalid, this line will also not be executed due to the error."
   ]
  },
  {
   "cell_type": "code",
   "execution_count": 23,
   "id": "944cfbb5-ee7a-4a63-991e-4e1f48536e13",
   "metadata": {},
   "outputs": [
    {
     "ename": "NameError",
     "evalue": "name 'TRUE' is not defined",
     "output_type": "error",
     "traceback": [
      "\u001b[1;31m---------------------------------------------------------------------------\u001b[0m",
      "\u001b[1;31mNameError\u001b[0m                                 Traceback (most recent call last)",
      "Cell \u001b[1;32mIn[23], line 2\u001b[0m\n\u001b[0;32m      1\u001b[0m \u001b[38;5;66;03m# e\u001b[39;00m\n\u001b[1;32m----> 2\u001b[0m a\u001b[38;5;241m=\u001b[39mTRUE\n\u001b[0;32m      3\u001b[0m \u001b[38;5;28mprint\u001b[39m(a)\n",
      "\u001b[1;31mNameError\u001b[0m: name 'TRUE' is not defined"
     ]
    }
   ],
   "source": [
    "# e\n",
    "a=TRUE\n",
    "print(a)\n",
    "# interpretation\n",
    "# The line a = TRUE attempts to assign the value TRUE to the variable a.\n",
    "# However, TRUE is not recognized as a valid boolean value in Python. \n",
    "# In Python, the correct boolean values are True (with a capital \"T\") and False (with a capital \"F\"). \n",
    "# Therefore, using TRUE will raise a NameError because it has not been defined or recognized.\n",
    "# The line print(a) tries to print the value of a. \n",
    "# Since the assignment in the previous line is invalid, this line will also not be executed, and the program will raise an error before reaching this point."
   ]
  },
  {
   "cell_type": "code",
   "execution_count": 35,
   "id": "7a5f1d83-ebd5-4c6f-8475-93d390241a87",
   "metadata": {},
   "outputs": [
    {
     "ename": "NameError",
     "evalue": "name 'false' is not defined",
     "output_type": "error",
     "traceback": [
      "\u001b[1;31m---------------------------------------------------------------------------\u001b[0m",
      "\u001b[1;31mNameError\u001b[0m                                 Traceback (most recent call last)",
      "Cell \u001b[1;32mIn[35], line 1\u001b[0m\n\u001b[1;32m----> 1\u001b[0m b\u001b[38;5;241m=\u001b[39mfalse\n\u001b[0;32m      2\u001b[0m \u001b[38;5;28mprint\u001b[39m(b)\n",
      "\u001b[1;31mNameError\u001b[0m: name 'false' is not defined"
     ]
    }
   ],
   "source": [
    "# f\n",
    "b=false\n",
    "print(b)\n",
    "# interpretation\n",
    "# The line b = false attempts to assign the value false to the variable b.\n",
    "# However, false (all lowercase) is not recognized as a valid boolean value in Python. \n",
    "# In Python, the correct boolean values are True (with a capital \"T\") and False (with a capital \"F\"). \n",
    "# Therefore, using false will raise a NameError because it has not been defined or recognized.\n",
    "# The line print(b) tries to print the value of b. \n",
    "# Since the assignment in the previous line is invalid, this line will also not be executed, and the program will raise an error before reaching this point."
   ]
  },
  {
   "cell_type": "code",
   "execution_count": 37,
   "id": "2cef2e29-0670-4df4-8665-5ab17ec1561e",
   "metadata": {},
   "outputs": [
    {
     "name": "stdout",
     "output_type": "stream",
     "text": [
      "66.5\n",
      "<class 'float'>\n",
      "1855532248944\n"
     ]
    }
   ],
   "source": [
    "# task4\n",
    "# a\n",
    "marks=66.5\n",
    "\n",
    "print(marks)\n",
    "print(type(marks))\n",
    "print(id(marks))\n",
    "# interpretation\n",
    "# The code assigns the floating-point value 66.5 to the variable marks.\n",
    "# It prints the value of marks, confirms its data type as float, and displays its memory address.\n"
   ]
  },
  {
   "cell_type": "code",
   "execution_count": 27,
   "id": "d18cbd4d-69d8-4688-8319-4b7791f5ce17",
   "metadata": {},
   "outputs": [
    {
     "name": "stdout",
     "output_type": "stream",
     "text": [
      "89.8\n",
      "<class 'float'>\n",
      "2610287350160\n"
     ]
    }
   ],
   "source": [
    "# b\n",
    "marks=89.8\n",
    "print(marks)\n",
    "print(type(marks))\n",
    "print(id(marks))\n",
    "# interpretation\n",
    "# The code assigns the floating-point value 89.8 to the variable marks.\n",
    "# It prints the value of marks, confirms its data type as float, and displays its memory address in memory."
   ]
  },
  {
   "cell_type": "code",
   "execution_count": null,
   "id": "ba9ac983-a22c-44ec-ba36-1c6e7179770b",
   "metadata": {},
   "outputs": [],
   "source": [
    "# c\n",
    "\n",
    "# Each time a new value is assigned to a variable in Python, a new object is created in memory. \n",
    "# In the previous examples, the variable marks was assigned two different floating-point values (66.5 and 89.8). \n",
    "# This means that two distinct float objects are created in memory.\n",
    "\n",
    "# The id() function in Python returns the memory address of the object. \n",
    "# Since marks holds different values in the last two questions, calling id(marks) for each case will yield different results, reflecting the different memory addresses of the two float objects.\n"
   ]
  },
  {
   "cell_type": "code",
   "execution_count": 29,
   "id": "c7c0b7b7-c2a2-485f-bab3-344fd8798c7a",
   "metadata": {},
   "outputs": [
    {
     "name": "stdout",
     "output_type": "stream",
     "text": [
      "89.8 %\n"
     ]
    }
   ],
   "source": [
    "# task5\n",
    "# a\n",
    "maxmarks=100\n",
    "print((marks / maxmarks) * 100, '%')\n",
    "\n",
    "# interpretation\n",
    "# Assignment: maxmarks is set to 100.\n",
    "# Percentage Calculation: (marks / maxmarks) * 100 calculates the percentage of marks relative to maxmarks.\n",
    "# Output: The result is printed alongside a percentage sign.\n"
   ]
  },
  {
   "cell_type": "code",
   "execution_count": 61,
   "id": "49259b32-8728-4c3e-9373-b0dc26c8e982",
   "metadata": {},
   "outputs": [
    {
     "name": "stdout",
     "output_type": "stream",
     "text": [
      "hridhthik prem\n"
     ]
    }
   ],
   "source": [
    "# b\n",
    "\n",
    "fullname=firstname+' '+lastname\n",
    "print(fullname)\n",
    "# interpretation\n",
    "# The line fullname = firstname + ' ' + lastname concatenates the variables firstname and lastname with a space in between.\n",
    "# This means that the value of fullname will be a single string that combines both names. \n",
    "# For example, if firstname is \"John\" and lastname is \"Doe\", then fullname will be \"John Doe\"."
   ]
  },
  {
   "cell_type": "code",
   "execution_count": 63,
   "id": "9cc5d035-57d9-4ac0-996a-767ad793e6c9",
   "metadata": {},
   "outputs": [
    {
     "name": "stdout",
     "output_type": "stream",
     "text": [
      "hridhthik prem scored 89.8 %\n"
     ]
    }
   ],
   "source": [
    "# c\n",
    "print(fullname,'scored',marks,'%')\n",
    "# interpretation\n",
    "# Output Statement: This line constructs a message that includes the variable fullname, the string 'scored', the variable marks, and the string '%'.\n",
    "# Concatenation: The print() function will output all these elements separated by spaces.\n"
   ]
  },
  {
   "cell_type": "code",
   "execution_count": 31,
   "id": "9b697dc9-82dc-40c6-a2a1-752a507928fb",
   "metadata": {},
   "outputs": [
    {
     "ename": "TypeError",
     "evalue": "unsupported operand type(s) for +: 'int' and 'str'",
     "output_type": "error",
     "traceback": [
      "\u001b[1;31m---------------------------------------------------------------------------\u001b[0m",
      "\u001b[1;31mTypeError\u001b[0m                                 Traceback (most recent call last)",
      "Cell \u001b[1;32mIn[31], line 3\u001b[0m\n\u001b[0;32m      1\u001b[0m \u001b[38;5;66;03m# task6\u001b[39;00m\n\u001b[0;32m      2\u001b[0m \u001b[38;5;66;03m# a\u001b[39;00m\n\u001b[1;32m----> 3\u001b[0m \u001b[38;5;28mprint\u001b[39m(\u001b[38;5;241m1\u001b[39m\u001b[38;5;241m+\u001b[39m\u001b[38;5;124m'\u001b[39m\u001b[38;5;124m2\u001b[39m\u001b[38;5;124m'\u001b[39m)\n",
      "\u001b[1;31mTypeError\u001b[0m: unsupported operand type(s) for +: 'int' and 'str'"
     ]
    }
   ],
   "source": [
    "# task6\n",
    "# a\n",
    "print(1+'2')\n",
    "# interpretation\n",
    "# : The code attempts to add an integer (1) and a string ('2').\n",
    "# In Python, the + operator is used for both arithmetic addition and string concatenation.\n",
    "# Since the two operands are of different types (an integer and a string), Python does not know how to perform this operation.\n",
    "# Specifically, you cannot directly add an integer and a string together."
   ]
  },
  {
   "cell_type": "code",
   "execution_count": 67,
   "id": "30f8ff60-7cd7-4211-baad-f4dc37e9acc3",
   "metadata": {},
   "outputs": [
    {
     "name": "stdout",
     "output_type": "stream",
     "text": [
      "12\n"
     ]
    }
   ],
   "source": [
    "# b\n",
    "print('1'+'2')\n",
    "\n",
    "# interpretation\n",
    "#String Concatenation: The code uses the + operator to concatenate two strings: '1' and '2'. \n",
    "# In Python, the + operator, when applied to strings, combines them into a single string.\n",
    "# Result: The operation '1' + '2' results in the string '12'.\n",
    "# Output Statement: The print() function outputs the concatenated result to the console."
   ]
  },
  {
   "cell_type": "code",
   "execution_count": 69,
   "id": "1e8f0254-8141-424c-a851-9493d2959b83",
   "metadata": {},
   "outputs": [
    {
     "name": "stdout",
     "output_type": "stream",
     "text": [
      "0.5\n"
     ]
    }
   ],
   "source": [
    "# c\n",
    "print(1/2)\n",
    "\n",
    "# Division Operation: The code performs a division operation where 1 (the numerator) is divided by 2 (the denominator). \n",
    "# In Python, the / operator always performs floating-point division.\n",
    "# Result: The result of the operation 1 / 2 is 0.5, which is a floating-point number.\n",
    "# Output Statement: The print() function outputs the result of the division to the console.\n",
    "\n"
   ]
  },
  {
   "cell_type": "code",
   "execution_count": 71,
   "id": "afc53e5e-a738-4f9c-bda1-38e229b67d03",
   "metadata": {},
   "outputs": [
    {
     "name": "stdout",
     "output_type": "stream",
     "text": [
      "0\n"
     ]
    }
   ],
   "source": [
    "# d\n",
    "print(1//2)\n",
    "# it returns a whole number and perform arithemetc operations\n"
   ]
  },
  {
   "cell_type": "code",
   "execution_count": 73,
   "id": "62a8b3fe-70be-4c5a-b5aa-313e4bd2f433",
   "metadata": {},
   "outputs": [
    {
     "name": "stdout",
     "output_type": "stream",
     "text": [
      "True\n"
     ]
    }
   ],
   "source": [
    "# task7\n",
    "# a\n",
    "print(True and True)\n",
    "# interpretation\n",
    "# Logical Operation: The code uses the and logical operator to evaluate the expression True and True.\n",
    "# The and operator returns True if both operands are True; otherwise, it returns False.\n",
    "# Result: Since both operands are True, the expression evaluates to True.\n",
    "# Output Statement: The print() function outputs the result of the logical operation to the console."
   ]
  },
  {
   "cell_type": "code",
   "execution_count": 77,
   "id": "b31f7400-c9c7-4b06-afe2-0e041d67f7d6",
   "metadata": {},
   "outputs": [
    {
     "name": "stdout",
     "output_type": "stream",
     "text": [
      "False\n"
     ]
    }
   ],
   "source": [
    "# b\n",
    "print(True and False)\n",
    "\n",
    "# interpretation\n",
    "# Logical Operation: The code uses the and logical operator to evaluate the expression True and False.\n",
    "\n",
    "# The and operator returns True only if both operands are True. If either operand is False, the result is False.\n",
    "# Result: Since the second operand is False, the entire expression evaluates to False.\n",
    "\n",
    "# Output Statement: The print() function outputs the result of the logical operation to the console."
   ]
  },
  {
   "cell_type": "code",
   "execution_count": 79,
   "id": "c99f7550-1a85-4de1-b61b-b2689d9c0704",
   "metadata": {},
   "outputs": [
    {
     "name": "stdout",
     "output_type": "stream",
     "text": [
      "True\n"
     ]
    }
   ],
   "source": [
    "# c\n",
    "print(False or True)\n",
    "# interpretation\n",
    "# Logical Operation: The code uses the or logical operator to evaluate the expression False or True.\n",
    "\n",
    "# The or operator returns True if at least one of the operands is True. If both operands are False, it returns False.\n",
    "# Result: Since the second operand is True, the entire expression evaluates to True.\n",
    "\n",
    "# Output Statement: The print() function outputs the result of the logical operation to the console.\n",
    "\n"
   ]
  },
  {
   "cell_type": "code",
   "execution_count": 81,
   "id": "3a695891-4053-4232-9a4f-58b1cf1b5ce0",
   "metadata": {},
   "outputs": [
    {
     "name": "stdout",
     "output_type": "stream",
     "text": [
      "False\n"
     ]
    }
   ],
   "source": [
    "# d\n",
    "print(False or False)\n",
    "# interpretation\n",
    "# Logical Operation: The code uses the or logical operator to evaluate the expression False or False.\n",
    "\n",
    "# The or operator returns True if at least one of the operands is True. If both operands are False, it returns False.\n",
    "# Result: Since both operands are False, the entire expression evaluates to False.\n",
    "\n",
    "# Output Statement: The print() function outputs the result of the logical operation to the console."
   ]
  },
  {
   "cell_type": "code",
   "execution_count": 83,
   "id": "185f1b0f-8364-4d1c-ada1-4ce4e92209ab",
   "metadata": {},
   "outputs": [
    {
     "name": "stdout",
     "output_type": "stream",
     "text": [
      "True\n"
     ]
    }
   ],
   "source": [
    "# task8\n",
    "# a\n",
    "print(firstname in fullname)\n",
    "# interpretation\n",
    "# Membership Test: The code uses the in operator to check if the string stored in the variable firstname is a substring of the string stored in the variable fullname.\n",
    "\n",
    "# The in operator returns True if the left operand (in this case, firstname) is found within the right operand (fullname), and False otherwise.\n",
    "# Result: If firstname is part of fullname, the expression evaluates to True; if it is not, it evaluates to False.\n",
    "\n",
    "# Output Statement: The print() function outputs the result of the membership test to the console."
   ]
  },
  {
   "cell_type": "code",
   "execution_count": 85,
   "id": "8e39a48f-5601-4a33-b87c-f6518d97206c",
   "metadata": {},
   "outputs": [
    {
     "name": "stdout",
     "output_type": "stream",
     "text": [
      "False\n"
     ]
    }
   ],
   "source": [
    "print(firstname is fullname)\n",
    "\n",
    "# interpretation\n",
    "# Identity Test: The code uses the is operator to check whether the variables firstname and fullname refer to the same object in memory.\n",
    "\n",
    "# The is operator returns True if both operands point to the same object (i.e., have the same identity) and False otherwise.\n",
    "# Result:\n",
    "\n",
    "# In most cases, firstname and fullname will contain different strings (e.g., firstname could be \"hridhthik\" and fullname could be \"hridhthik premkumar\"). Hence, they will not be the same object in memory.\n",
    "# Output Statement: The print() function outputs the result of the identity test to the console."
   ]
  },
  {
   "cell_type": "code",
   "execution_count": 87,
   "id": "6bb2c48e-3b04-4c80-950b-ac60c6f356cd",
   "metadata": {},
   "outputs": [
    {
     "name": "stdout",
     "output_type": "stream",
     "text": [
      "66\n",
      "1024\n"
     ]
    }
   ],
   "source": [
    "a=4\n",
    "b=3\n",
    "c=2\n",
    "d=a**b+c\n",
    "e=a**(b+c)\n",
    "\n",
    "# a\n",
    "print(d)\n",
    "# b\n",
    "print(e)\n",
    "\n",
    "# c\n",
    "\n",
    "# Value of d: 66\n",
    "# Value of e: 1024\n",
    "# Reason for Difference: The calculations for d and e are based on different expressions, resulting in different values."
   ]
  },
  {
   "cell_type": "code",
   "execution_count": null,
   "id": "e71f1c41-524d-4833-aff0-5bedbcca7970",
   "metadata": {},
   "outputs": [],
   "source": []
  }
 ],
 "metadata": {
  "kernelspec": {
   "display_name": "Python 3 (ipykernel)",
   "language": "python",
   "name": "python3"
  },
  "language_info": {
   "codemirror_mode": {
    "name": "ipython",
    "version": 3
   },
   "file_extension": ".py",
   "mimetype": "text/x-python",
   "name": "python",
   "nbconvert_exporter": "python",
   "pygments_lexer": "ipython3",
   "version": "3.12.4"
  }
 },
 "nbformat": 4,
 "nbformat_minor": 5
}
